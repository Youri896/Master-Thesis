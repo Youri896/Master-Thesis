{
 "cells": [
  {
   "cell_type": "markdown",
   "id": "0854a286-8a76-4803-9982-92e51c4052c2",
   "metadata": {},
   "source": [
    "## Master Thesis - Predicting Stress using Ordinal Regression Techniques"
   ]
  },
  {
   "cell_type": "markdown",
   "id": "ac3b491a-62ad-40b7-bc74-c4bf0766d777",
   "metadata": {},
   "source": [
    "In this notebook you will find the code for which I acquire the results of my Master Thesis. The data used for this research can be found in the following link:\n",
    "https://www.kaggle.com/datasets/ydalat/lifestyle-and-wellbeing-data"
   ]
  },
  {
   "cell_type": "markdown",
   "id": "ae66c020-0c54-45a5-8f26-fd47e068f938",
   "metadata": {},
   "source": [
    "## Step 1. Importing packages"
   ]
  },
  {
   "cell_type": "markdown",
   "id": "d45fbe84-8c59-436a-a11e-1ee68b55aef9",
   "metadata": {},
   "source": [
    "To begin the analysis I first have to import all the necessary packages for preprocessing. First I import the Pandas for data manipulation and analysis of the thesis. Next I import NumPy for array and matrix manipulation. For example, during this project numpy is used for initialization of random parameters and generating cross validation folds. One other library is OS, which is an package that deals with (identifying and setting) directories. Finally, matplotlib and seaborn are both packages that are used in plotting of the visualisations. "
   ]
  },
  {
   "cell_type": "code",
   "execution_count": 1,
   "id": "4555f9dd-1c9c-4b00-acf1-cf2b2e5d452c",
   "metadata": {},
   "outputs": [],
   "source": [
    "import pandas as pd\n",
    "import numpy as np\n",
    "import os as os\n",
    "import matplotlib\n",
    "import matplotlib.pyplot as plt\n",
    "import seaborn as sns\n",
    "import math"
   ]
  },
  {
   "cell_type": "markdown",
   "id": "6ae2493f-e157-4d32-948a-17a17d6a38f1",
   "metadata": {},
   "source": [
    "Importing data."
   ]
  },
  {
   "cell_type": "code",
   "execution_count": 2,
   "id": "2f450770-9ca4-408d-8c09-6a9b5dba5c16",
   "metadata": {},
   "outputs": [],
   "source": [
    "data = pd.read_excel('C:\\\\Users\\\\youri\\\\Documents\\\\Master Data Science\\\\Jr2 Blok 1\\\\Thesis\\\\Lifestyle-and-Wellbeing data.xlsx')"
   ]
  },
  {
   "cell_type": "markdown",
   "id": "886a3d4b-1429-4d8a-929c-3dbb3cb67287",
   "metadata": {},
   "source": [
    "###  Dataset description\n",
    "The Lifestyle and Wellbeing data contains survey responses from the website of authentic-happiness.com. This survey is a questionnaire on various attributes on how people lead their lives. Consequently, the original authors computed a work-life balance score to give individuals insights into how balanced their life is. In total there are 15972 survey responses and 24 attributes and responses are filled in from July 2015 until March 2021."
   ]
  },
  {
   "cell_type": "code",
   "execution_count": 3,
   "id": "908abc90-7a5a-40af-8f5a-e2d4dd842f83",
   "metadata": {},
   "outputs": [
    {
     "name": "stdout",
     "output_type": "stream",
     "text": [
      "<class 'pandas.core.frame.DataFrame'>\n",
      "RangeIndex: 15972 entries, 0 to 15971\n",
      "Data columns (total 24 columns):\n",
      " #   Column                   Non-Null Count  Dtype  \n",
      "---  ------                   --------------  -----  \n",
      " 0   Timestamp                15972 non-null  object \n",
      " 1   FRUITS_VEGGIES           15972 non-null  int64  \n",
      " 2   DAILY_STRESS             15971 non-null  float64\n",
      " 3   PLACES_VISITED           15972 non-null  int64  \n",
      " 4   CORE_CIRCLE              15972 non-null  int64  \n",
      " 5   SUPPORTING_OTHERS        15972 non-null  int64  \n",
      " 6   SOCIAL_NETWORK           15972 non-null  int64  \n",
      " 7   ACHIEVEMENT              15972 non-null  int64  \n",
      " 8   DONATION                 15972 non-null  int64  \n",
      " 9   BMI_RANGE                15972 non-null  int64  \n",
      " 10  TODO_COMPLETED           15972 non-null  int64  \n",
      " 11  FLOW                     15972 non-null  int64  \n",
      " 12  DAILY_STEPS              15972 non-null  int64  \n",
      " 13  LIFE_VISION              15972 non-null  int64  \n",
      " 14  SLEEP_HOURS              15972 non-null  int64  \n",
      " 15  LOST_VACATION            15972 non-null  int64  \n",
      " 16  DAILY_SHOUTING           15972 non-null  int64  \n",
      " 17  SUFFICIENT_INCOME        15972 non-null  int64  \n",
      " 18  PERSONAL_AWARDS          15972 non-null  int64  \n",
      " 19  TIME_FOR_PASSION         15972 non-null  int64  \n",
      " 20  WEEKLY_MEDITATION        15972 non-null  int64  \n",
      " 21  AGE                      15972 non-null  object \n",
      " 22  GENDER                   15972 non-null  object \n",
      " 23  WORK_LIFE_BALANCE_SCORE  15972 non-null  int64  \n",
      "dtypes: float64(1), int64(20), object(3)\n",
      "memory usage: 2.9+ MB\n"
     ]
    }
   ],
   "source": [
    "data.info()"
   ]
  },
  {
   "cell_type": "markdown",
   "id": "8ae1afb4-da9d-4659-9214-44e543e23fd0",
   "metadata": {},
   "source": [
    "## Step 2. Setting a Seed"
   ]
  },
  {
   "cell_type": "markdown",
   "id": "0517da97-4547-4a44-8078-3b048641a3d7",
   "metadata": {},
   "source": [
    "I set a seed for reproduction purposes, so that the same numbers are generated on multiple code executions."
   ]
  },
  {
   "cell_type": "code",
   "execution_count": 4,
   "id": "69043889-7270-45cf-be4a-b26ebb552c3f",
   "metadata": {},
   "outputs": [],
   "source": [
    "my_seed = 141\n",
    "np.random.seed(my_seed)"
   ]
  },
  {
   "cell_type": "markdown",
   "id": "41bebc18-c439-4118-a70f-61305d0453ec",
   "metadata": {},
   "source": [
    "## Step 3. Preprocessing"
   ]
  },
  {
   "cell_type": "markdown",
   "id": "daa3dc81-28be-4f51-a2df-e9cb4375aeed",
   "metadata": {},
   "source": [
    "First, I want to see how the dataset actually looks."
   ]
  },
  {
   "cell_type": "code",
   "execution_count": 5,
   "id": "dd23de41-0e53-40b1-91cc-401ef5256ab0",
   "metadata": {},
   "outputs": [
    {
     "data": {
      "text/html": [
       "<div>\n",
       "<style scoped>\n",
       "    .dataframe tbody tr th:only-of-type {\n",
       "        vertical-align: middle;\n",
       "    }\n",
       "\n",
       "    .dataframe tbody tr th {\n",
       "        vertical-align: top;\n",
       "    }\n",
       "\n",
       "    .dataframe thead th {\n",
       "        text-align: right;\n",
       "    }\n",
       "</style>\n",
       "<table border=\"1\" class=\"dataframe\">\n",
       "  <thead>\n",
       "    <tr style=\"text-align: right;\">\n",
       "      <th></th>\n",
       "      <th>Timestamp</th>\n",
       "      <th>FRUITS_VEGGIES</th>\n",
       "      <th>DAILY_STRESS</th>\n",
       "      <th>PLACES_VISITED</th>\n",
       "      <th>CORE_CIRCLE</th>\n",
       "      <th>SUPPORTING_OTHERS</th>\n",
       "      <th>SOCIAL_NETWORK</th>\n",
       "      <th>ACHIEVEMENT</th>\n",
       "      <th>DONATION</th>\n",
       "      <th>BMI_RANGE</th>\n",
       "      <th>...</th>\n",
       "      <th>SLEEP_HOURS</th>\n",
       "      <th>LOST_VACATION</th>\n",
       "      <th>DAILY_SHOUTING</th>\n",
       "      <th>SUFFICIENT_INCOME</th>\n",
       "      <th>PERSONAL_AWARDS</th>\n",
       "      <th>TIME_FOR_PASSION</th>\n",
       "      <th>WEEKLY_MEDITATION</th>\n",
       "      <th>AGE</th>\n",
       "      <th>GENDER</th>\n",
       "      <th>WORK_LIFE_BALANCE_SCORE</th>\n",
       "    </tr>\n",
       "  </thead>\n",
       "  <tbody>\n",
       "    <tr>\n",
       "      <th>0</th>\n",
       "      <td>7/7/15</td>\n",
       "      <td>3</td>\n",
       "      <td>2.0</td>\n",
       "      <td>2</td>\n",
       "      <td>5</td>\n",
       "      <td>0</td>\n",
       "      <td>5</td>\n",
       "      <td>2</td>\n",
       "      <td>0</td>\n",
       "      <td>1</td>\n",
       "      <td>...</td>\n",
       "      <td>7</td>\n",
       "      <td>5</td>\n",
       "      <td>5</td>\n",
       "      <td>1</td>\n",
       "      <td>4</td>\n",
       "      <td>0</td>\n",
       "      <td>5</td>\n",
       "      <td>36 to 50</td>\n",
       "      <td>Female</td>\n",
       "      <td>6095</td>\n",
       "    </tr>\n",
       "    <tr>\n",
       "      <th>1</th>\n",
       "      <td>7/7/15</td>\n",
       "      <td>2</td>\n",
       "      <td>3.0</td>\n",
       "      <td>4</td>\n",
       "      <td>3</td>\n",
       "      <td>8</td>\n",
       "      <td>10</td>\n",
       "      <td>5</td>\n",
       "      <td>2</td>\n",
       "      <td>2</td>\n",
       "      <td>...</td>\n",
       "      <td>8</td>\n",
       "      <td>2</td>\n",
       "      <td>2</td>\n",
       "      <td>2</td>\n",
       "      <td>3</td>\n",
       "      <td>2</td>\n",
       "      <td>6</td>\n",
       "      <td>36 to 50</td>\n",
       "      <td>Female</td>\n",
       "      <td>6556</td>\n",
       "    </tr>\n",
       "    <tr>\n",
       "      <th>2</th>\n",
       "      <td>7/7/15</td>\n",
       "      <td>2</td>\n",
       "      <td>3.0</td>\n",
       "      <td>3</td>\n",
       "      <td>4</td>\n",
       "      <td>4</td>\n",
       "      <td>10</td>\n",
       "      <td>3</td>\n",
       "      <td>2</td>\n",
       "      <td>2</td>\n",
       "      <td>...</td>\n",
       "      <td>8</td>\n",
       "      <td>10</td>\n",
       "      <td>2</td>\n",
       "      <td>2</td>\n",
       "      <td>4</td>\n",
       "      <td>8</td>\n",
       "      <td>3</td>\n",
       "      <td>36 to 50</td>\n",
       "      <td>Female</td>\n",
       "      <td>6316</td>\n",
       "    </tr>\n",
       "    <tr>\n",
       "      <th>3</th>\n",
       "      <td>7/7/15</td>\n",
       "      <td>3</td>\n",
       "      <td>3.0</td>\n",
       "      <td>10</td>\n",
       "      <td>3</td>\n",
       "      <td>10</td>\n",
       "      <td>7</td>\n",
       "      <td>2</td>\n",
       "      <td>5</td>\n",
       "      <td>2</td>\n",
       "      <td>...</td>\n",
       "      <td>5</td>\n",
       "      <td>7</td>\n",
       "      <td>5</td>\n",
       "      <td>1</td>\n",
       "      <td>5</td>\n",
       "      <td>2</td>\n",
       "      <td>0</td>\n",
       "      <td>51 or more</td>\n",
       "      <td>Female</td>\n",
       "      <td>6227</td>\n",
       "    </tr>\n",
       "    <tr>\n",
       "      <th>4</th>\n",
       "      <td>7/7/15</td>\n",
       "      <td>5</td>\n",
       "      <td>1.0</td>\n",
       "      <td>3</td>\n",
       "      <td>3</td>\n",
       "      <td>10</td>\n",
       "      <td>4</td>\n",
       "      <td>2</td>\n",
       "      <td>4</td>\n",
       "      <td>2</td>\n",
       "      <td>...</td>\n",
       "      <td>7</td>\n",
       "      <td>0</td>\n",
       "      <td>0</td>\n",
       "      <td>2</td>\n",
       "      <td>8</td>\n",
       "      <td>1</td>\n",
       "      <td>5</td>\n",
       "      <td>51 or more</td>\n",
       "      <td>Female</td>\n",
       "      <td>6639</td>\n",
       "    </tr>\n",
       "    <tr>\n",
       "      <th>5</th>\n",
       "      <td>7/8/15</td>\n",
       "      <td>3</td>\n",
       "      <td>2.0</td>\n",
       "      <td>3</td>\n",
       "      <td>9</td>\n",
       "      <td>10</td>\n",
       "      <td>10</td>\n",
       "      <td>2</td>\n",
       "      <td>3</td>\n",
       "      <td>1</td>\n",
       "      <td>...</td>\n",
       "      <td>8</td>\n",
       "      <td>0</td>\n",
       "      <td>2</td>\n",
       "      <td>2</td>\n",
       "      <td>10</td>\n",
       "      <td>8</td>\n",
       "      <td>3</td>\n",
       "      <td>51 or more</td>\n",
       "      <td>Female</td>\n",
       "      <td>7223</td>\n",
       "    </tr>\n",
       "    <tr>\n",
       "      <th>6</th>\n",
       "      <td>7/8/15</td>\n",
       "      <td>4</td>\n",
       "      <td>2.0</td>\n",
       "      <td>10</td>\n",
       "      <td>6</td>\n",
       "      <td>10</td>\n",
       "      <td>10</td>\n",
       "      <td>3</td>\n",
       "      <td>5</td>\n",
       "      <td>2</td>\n",
       "      <td>...</td>\n",
       "      <td>7</td>\n",
       "      <td>10</td>\n",
       "      <td>0</td>\n",
       "      <td>2</td>\n",
       "      <td>10</td>\n",
       "      <td>8</td>\n",
       "      <td>10</td>\n",
       "      <td>51 or more</td>\n",
       "      <td>Male</td>\n",
       "      <td>7272</td>\n",
       "    </tr>\n",
       "    <tr>\n",
       "      <th>7</th>\n",
       "      <td>7/9/15</td>\n",
       "      <td>3</td>\n",
       "      <td>4.0</td>\n",
       "      <td>5</td>\n",
       "      <td>3</td>\n",
       "      <td>5</td>\n",
       "      <td>7</td>\n",
       "      <td>4</td>\n",
       "      <td>0</td>\n",
       "      <td>1</td>\n",
       "      <td>...</td>\n",
       "      <td>6</td>\n",
       "      <td>0</td>\n",
       "      <td>2</td>\n",
       "      <td>2</td>\n",
       "      <td>8</td>\n",
       "      <td>2</td>\n",
       "      <td>2</td>\n",
       "      <td>21 to 35</td>\n",
       "      <td>Female</td>\n",
       "      <td>6762</td>\n",
       "    </tr>\n",
       "    <tr>\n",
       "      <th>8</th>\n",
       "      <td>7/9/15</td>\n",
       "      <td>5</td>\n",
       "      <td>3.0</td>\n",
       "      <td>6</td>\n",
       "      <td>4</td>\n",
       "      <td>3</td>\n",
       "      <td>3</td>\n",
       "      <td>5</td>\n",
       "      <td>4</td>\n",
       "      <td>1</td>\n",
       "      <td>...</td>\n",
       "      <td>10</td>\n",
       "      <td>0</td>\n",
       "      <td>2</td>\n",
       "      <td>2</td>\n",
       "      <td>10</td>\n",
       "      <td>3</td>\n",
       "      <td>10</td>\n",
       "      <td>21 to 35</td>\n",
       "      <td>Female</td>\n",
       "      <td>7028</td>\n",
       "    </tr>\n",
       "    <tr>\n",
       "      <th>9</th>\n",
       "      <td>7/10/15</td>\n",
       "      <td>4</td>\n",
       "      <td>4.0</td>\n",
       "      <td>2</td>\n",
       "      <td>6</td>\n",
       "      <td>10</td>\n",
       "      <td>10</td>\n",
       "      <td>0</td>\n",
       "      <td>4</td>\n",
       "      <td>2</td>\n",
       "      <td>...</td>\n",
       "      <td>6</td>\n",
       "      <td>0</td>\n",
       "      <td>0</td>\n",
       "      <td>1</td>\n",
       "      <td>3</td>\n",
       "      <td>8</td>\n",
       "      <td>1</td>\n",
       "      <td>51 or more</td>\n",
       "      <td>Female</td>\n",
       "      <td>6344</td>\n",
       "    </tr>\n",
       "  </tbody>\n",
       "</table>\n",
       "<p>10 rows × 24 columns</p>\n",
       "</div>"
      ],
      "text/plain": [
       "  Timestamp  FRUITS_VEGGIES  DAILY_STRESS  PLACES_VISITED  CORE_CIRCLE  \\\n",
       "0    7/7/15               3           2.0               2            5   \n",
       "1    7/7/15               2           3.0               4            3   \n",
       "2    7/7/15               2           3.0               3            4   \n",
       "3    7/7/15               3           3.0              10            3   \n",
       "4    7/7/15               5           1.0               3            3   \n",
       "5    7/8/15               3           2.0               3            9   \n",
       "6    7/8/15               4           2.0              10            6   \n",
       "7    7/9/15               3           4.0               5            3   \n",
       "8    7/9/15               5           3.0               6            4   \n",
       "9   7/10/15               4           4.0               2            6   \n",
       "\n",
       "   SUPPORTING_OTHERS  SOCIAL_NETWORK  ACHIEVEMENT  DONATION  BMI_RANGE  ...  \\\n",
       "0                  0               5            2         0          1  ...   \n",
       "1                  8              10            5         2          2  ...   \n",
       "2                  4              10            3         2          2  ...   \n",
       "3                 10               7            2         5          2  ...   \n",
       "4                 10               4            2         4          2  ...   \n",
       "5                 10              10            2         3          1  ...   \n",
       "6                 10              10            3         5          2  ...   \n",
       "7                  5               7            4         0          1  ...   \n",
       "8                  3               3            5         4          1  ...   \n",
       "9                 10              10            0         4          2  ...   \n",
       "\n",
       "   SLEEP_HOURS  LOST_VACATION  DAILY_SHOUTING  SUFFICIENT_INCOME  \\\n",
       "0            7              5               5                  1   \n",
       "1            8              2               2                  2   \n",
       "2            8             10               2                  2   \n",
       "3            5              7               5                  1   \n",
       "4            7              0               0                  2   \n",
       "5            8              0               2                  2   \n",
       "6            7             10               0                  2   \n",
       "7            6              0               2                  2   \n",
       "8           10              0               2                  2   \n",
       "9            6              0               0                  1   \n",
       "\n",
       "   PERSONAL_AWARDS  TIME_FOR_PASSION  WEEKLY_MEDITATION         AGE  GENDER  \\\n",
       "0                4                 0                  5    36 to 50  Female   \n",
       "1                3                 2                  6    36 to 50  Female   \n",
       "2                4                 8                  3    36 to 50  Female   \n",
       "3                5                 2                  0  51 or more  Female   \n",
       "4                8                 1                  5  51 or more  Female   \n",
       "5               10                 8                  3  51 or more  Female   \n",
       "6               10                 8                 10  51 or more    Male   \n",
       "7                8                 2                  2    21 to 35  Female   \n",
       "8               10                 3                 10    21 to 35  Female   \n",
       "9                3                 8                  1  51 or more  Female   \n",
       "\n",
       "   WORK_LIFE_BALANCE_SCORE  \n",
       "0                     6095  \n",
       "1                     6556  \n",
       "2                     6316  \n",
       "3                     6227  \n",
       "4                     6639  \n",
       "5                     7223  \n",
       "6                     7272  \n",
       "7                     6762  \n",
       "8                     7028  \n",
       "9                     6344  \n",
       "\n",
       "[10 rows x 24 columns]"
      ]
     },
     "execution_count": 5,
     "metadata": {},
     "output_type": "execute_result"
    }
   ],
   "source": [
    "data.head(n = 10)"
   ]
  },
  {
   "cell_type": "markdown",
   "id": "471d9796-7ed5-4627-a1a7-8fdcf91ad639",
   "metadata": {},
   "source": [
    "Second, I review the amount of missing values in the dataset."
   ]
  },
  {
   "cell_type": "code",
   "execution_count": 6,
   "id": "3d16103f-425c-42b4-b205-2f32f960b0b5",
   "metadata": {},
   "outputs": [
    {
     "data": {
      "text/plain": [
       "Timestamp                  0\n",
       "FRUITS_VEGGIES             0\n",
       "DAILY_STRESS               1\n",
       "PLACES_VISITED             0\n",
       "CORE_CIRCLE                0\n",
       "SUPPORTING_OTHERS          0\n",
       "SOCIAL_NETWORK             0\n",
       "ACHIEVEMENT                0\n",
       "DONATION                   0\n",
       "BMI_RANGE                  0\n",
       "TODO_COMPLETED             0\n",
       "FLOW                       0\n",
       "DAILY_STEPS                0\n",
       "LIFE_VISION                0\n",
       "SLEEP_HOURS                0\n",
       "LOST_VACATION              0\n",
       "DAILY_SHOUTING             0\n",
       "SUFFICIENT_INCOME          0\n",
       "PERSONAL_AWARDS            0\n",
       "TIME_FOR_PASSION           0\n",
       "WEEKLY_MEDITATION          0\n",
       "AGE                        0\n",
       "GENDER                     0\n",
       "WORK_LIFE_BALANCE_SCORE    0\n",
       "dtype: int64"
      ]
     },
     "execution_count": 6,
     "metadata": {},
     "output_type": "execute_result"
    }
   ],
   "source": [
    "data.isna().sum()"
   ]
  },
  {
   "cell_type": "markdown",
   "id": "53135585-b06b-4356-b178-06a65bc75335",
   "metadata": {},
   "source": [
    "There is only 1 missing value, which is very nice. Now I use the .loc function to find which column contains the missing value."
   ]
  },
  {
   "cell_type": "code",
   "execution_count": 7,
   "id": "7155665d-f503-41af-af4b-0ec26a5106bf",
   "metadata": {},
   "outputs": [
    {
     "data": {
      "text/html": [
       "<div>\n",
       "<style scoped>\n",
       "    .dataframe tbody tr th:only-of-type {\n",
       "        vertical-align: middle;\n",
       "    }\n",
       "\n",
       "    .dataframe tbody tr th {\n",
       "        vertical-align: top;\n",
       "    }\n",
       "\n",
       "    .dataframe thead th {\n",
       "        text-align: right;\n",
       "    }\n",
       "</style>\n",
       "<table border=\"1\" class=\"dataframe\">\n",
       "  <thead>\n",
       "    <tr style=\"text-align: right;\">\n",
       "      <th></th>\n",
       "      <th>Timestamp</th>\n",
       "      <th>FRUITS_VEGGIES</th>\n",
       "      <th>DAILY_STRESS</th>\n",
       "      <th>PLACES_VISITED</th>\n",
       "      <th>CORE_CIRCLE</th>\n",
       "      <th>SUPPORTING_OTHERS</th>\n",
       "      <th>SOCIAL_NETWORK</th>\n",
       "      <th>ACHIEVEMENT</th>\n",
       "      <th>DONATION</th>\n",
       "      <th>BMI_RANGE</th>\n",
       "      <th>...</th>\n",
       "      <th>SLEEP_HOURS</th>\n",
       "      <th>LOST_VACATION</th>\n",
       "      <th>DAILY_SHOUTING</th>\n",
       "      <th>SUFFICIENT_INCOME</th>\n",
       "      <th>PERSONAL_AWARDS</th>\n",
       "      <th>TIME_FOR_PASSION</th>\n",
       "      <th>WEEKLY_MEDITATION</th>\n",
       "      <th>AGE</th>\n",
       "      <th>GENDER</th>\n",
       "      <th>WORK_LIFE_BALANCE_SCORE</th>\n",
       "    </tr>\n",
       "  </thead>\n",
       "  <tbody>\n",
       "    <tr>\n",
       "      <th>10005</th>\n",
       "      <td>12/18/18 10:37</td>\n",
       "      <td>3</td>\n",
       "      <td>NaN</td>\n",
       "      <td>1</td>\n",
       "      <td>2</td>\n",
       "      <td>10</td>\n",
       "      <td>10</td>\n",
       "      <td>5</td>\n",
       "      <td>5</td>\n",
       "      <td>2</td>\n",
       "      <td>...</td>\n",
       "      <td>6</td>\n",
       "      <td>10</td>\n",
       "      <td>1</td>\n",
       "      <td>2</td>\n",
       "      <td>10</td>\n",
       "      <td>8</td>\n",
       "      <td>2</td>\n",
       "      <td>21 to 35</td>\n",
       "      <td>Male</td>\n",
       "      <td>6826</td>\n",
       "    </tr>\n",
       "  </tbody>\n",
       "</table>\n",
       "<p>1 rows × 24 columns</p>\n",
       "</div>"
      ],
      "text/plain": [
       "            Timestamp  FRUITS_VEGGIES  DAILY_STRESS  PLACES_VISITED  \\\n",
       "10005  12/18/18 10:37               3           NaN               1   \n",
       "\n",
       "       CORE_CIRCLE  SUPPORTING_OTHERS  SOCIAL_NETWORK  ACHIEVEMENT  DONATION  \\\n",
       "10005            2                 10              10            5         5   \n",
       "\n",
       "       BMI_RANGE  ...  SLEEP_HOURS  LOST_VACATION  DAILY_SHOUTING  \\\n",
       "10005          2  ...            6             10               1   \n",
       "\n",
       "       SUFFICIENT_INCOME  PERSONAL_AWARDS  TIME_FOR_PASSION  \\\n",
       "10005                  2               10                 8   \n",
       "\n",
       "       WEEKLY_MEDITATION       AGE  GENDER  WORK_LIFE_BALANCE_SCORE  \n",
       "10005                  2  21 to 35    Male                     6826  \n",
       "\n",
       "[1 rows x 24 columns]"
      ]
     },
     "execution_count": 7,
     "metadata": {},
     "output_type": "execute_result"
    }
   ],
   "source": [
    "data.loc[data[\"DAILY_STRESS\"].isnull()]"
   ]
  },
  {
   "cell_type": "markdown",
   "id": "9cfe926f-5ae6-4f26-90c5-48f3bd182d38",
   "metadata": {},
   "source": [
    "Column 10005 contains the missing value of the 'DAILY_STRESS' variable, therefore I drop this column."
   ]
  },
  {
   "cell_type": "code",
   "execution_count": 8,
   "id": "b8f8379f-256b-46be-b5e5-f4bf93358c14",
   "metadata": {},
   "outputs": [],
   "source": [
    "data = data.drop([10005])"
   ]
  },
  {
   "cell_type": "markdown",
   "id": "70ade08b-ba95-4e42-b389-4500c0620cd5",
   "metadata": {},
   "source": [
    "Below I review the distribution of the dependent variable 'DAILY_STRESS', this is a check for class imbalance."
   ]
  },
  {
   "cell_type": "code",
   "execution_count": 9,
   "id": "1e64739f-22c2-44c7-8f4f-384219d9c9d2",
   "metadata": {},
   "outputs": [
    {
     "data": {
      "text/plain": [
       "<AxesSubplot:title={'center':'Distribution DAILY_STRESS'}, xlabel='DAILY_STRESS', ylabel='count'>"
      ]
     },
     "execution_count": 9,
     "metadata": {},
     "output_type": "execute_result"
    },
    {
     "data": {
      "image/png": "[encoded data removed]",
      "text/plain": [
       "<Figure size 720x288 with 1 Axes>"
      ]
     },
     "metadata": {},
     "output_type": "display_data"
    }
   ],
   "source": [
    "matplotlib.style.use('grayscale')\n",
    "\n",
    "plt.figure(figsize=(10,4))\n",
    "plt.title(\"Distribution DAILY_STRESS\", fontsize = 18)\n",
    "sns.countplot(x = data[\"DAILY_STRESS\"])"
   ]
  },
  {
   "cell_type": "markdown",
   "id": "d8a161e5-5245-4c23-b0e1-bdc5a6a147af",
   "metadata": {},
   "source": [
    "The figure implies that the classes are heavily imbalanced, which provides an argument to merge certain classes together."
   ]
  },
  {
   "cell_type": "code",
   "execution_count": 10,
   "id": "eac895b3-a792-4337-9a92-7766343c42a6",
   "metadata": {},
   "outputs": [],
   "source": [
    "values_DS_old, counts_DS_old = np.unique(data[\"DAILY_STRESS\"], return_counts = True)"
   ]
  },
  {
   "cell_type": "code",
   "execution_count": 11,
   "id": "cee646f7-ffad-4b83-b6cd-4c3c358d160f",
   "metadata": {},
   "outputs": [
    {
     "name": "stdout",
     "output_type": "stream",
     "text": [
      "There are 676 occurrences of the value: 0.0\n",
      "There are 2478 occurrences of the value: 1.0\n",
      "There are 3407 occurrences of the value: 2.0\n",
      "There are 4398 occurrences of the value: 3.0\n",
      "There are 2960 occurrences of the value: 4.0\n",
      "There are 2052 occurrences of the value: 5.0\n"
     ]
    }
   ],
   "source": [
    "print(\"There are\", counts_DS_old[0], \"occurrences of the value:\", values_DS_old[0])\n",
    "print(\"There are\", counts_DS_old[1], \"occurrences of the value:\", values_DS_old[1])\n",
    "print(\"There are\", counts_DS_old[2], \"occurrences of the value:\", values_DS_old[2])\n",
    "print(\"There are\", counts_DS_old[3], \"occurrences of the value:\", values_DS_old[3])\n",
    "print(\"There are\", counts_DS_old[4], \"occurrences of the value:\", values_DS_old[4])\n",
    "print(\"There are\", counts_DS_old[5], \"occurrences of the value:\", values_DS_old[5])"
   ]
  },
  {
   "cell_type": "markdown",
   "id": "e760f033-0699-4d1f-a272-040cdfccc278",
   "metadata": {},
   "source": [
    "First, I will drop some of the columns which are irrelevant for my further findings."
   ]
  },
  {
   "cell_type": "code",
   "execution_count": 12,
   "id": "10084a7e-4696-4157-b79e-29bb2d6c2637",
   "metadata": {},
   "outputs": [],
   "source": [
    "data['YEAR'] = pd.DatetimeIndex(data['Timestamp']).year"
   ]
  },
  {
   "cell_type": "code",
   "execution_count": 13,
   "id": "30e78e0c-3f26-488a-a232-2dacb2c9b1c4",
   "metadata": {},
   "outputs": [],
   "source": [
    "data = data.drop(['Timestamp', 'WORK_LIFE_BALANCE_SCORE'], axis=1)"
   ]
  },
  {
   "cell_type": "markdown",
   "id": "a36c9115-6f50-4f6c-ac2a-7b8a17e3e067",
   "metadata": {},
   "source": [
    "Next, I will recode some of the variables since these variables can be changed from a nominal value to a number which makes it easier to interpret in the further findings."
   ]
  },
  {
   "cell_type": "code",
   "execution_count": 14,
   "id": "38145354-2302-4425-a8af-a06e77e5f122",
   "metadata": {},
   "outputs": [],
   "source": [
    "age_dict = {'Less than 20' : 1, '21 to 35' : 2, '36 to 50' : 3, '51 or more' : 4}\n",
    "data['AGE'] = pd.Series([age_dict[x] for x in data.AGE], index=data.index)\n",
    "gender_dict = {'Female' : 1, 'Male' : 0}\n",
    "data['GENDER'] = pd.Series([gender_dict[x] for x in data.GENDER], index=data.index)\n",
    "stress_dict = {0.0 : 1, 1.0 : 1, 2.0 : 2, 3.0 : 2, 4.0 : 3, 5.0 : 3}\n",
    "data['DAILY_STRESS'] = pd.Series([stress_dict[x] for x in data.DAILY_STRESS], index=data.index)\n",
    "data['DAILY_STRESS'] = data['DAILY_STRESS'].astype(int)"
   ]
  },
  {
   "cell_type": "markdown",
   "id": "165b3c1b-a346-49ac-be9f-51672ed0fe02",
   "metadata": {},
   "source": [
    "The dependent variable 'DAILY_STRESS' is merged into three classes instead of 6 classes. Furthermore the features 'GENDER' and 'AGE' are recoded for computational purposes."
   ]
  },
  {
   "cell_type": "markdown",
   "id": "48291642-18f7-4fc0-a46e-7bf1667214df",
   "metadata": {},
   "source": [
    "## Step 4. Visualization"
   ]
  },
  {
   "cell_type": "markdown",
   "id": "bc6dd93a-922b-483f-9853-b8948a13e1a2",
   "metadata": {},
   "source": [
    "For the visualization part of the notebook, I will first look into how each of the individual features are correlated with one another. If it appears that there is multicollinearity between the various independent features, some features will be removed."
   ]
  },
  {
   "cell_type": "code",
   "execution_count": 15,
   "id": "e4806491-aa22-4c34-b3b7-218b4d30ab6e",
   "metadata": {},
   "outputs": [
    {
     "data": {
      "text/plain": [
       "<AxesSubplot:title={'center':'Features correlation matrix'}>"
      ]
     },
     "execution_count": 15,
     "metadata": {},
     "output_type": "execute_result"
    },
    {
     "data": {
      "image/png": "[encoded data removed]",
      "text/plain": [
       "<Figure size 792x648 with 2 Axes>"
      ]
     },
     "metadata": {},
     "output_type": "display_data"
    }
   ],
   "source": [
    "sns.set_theme(style=\"white\")\n",
    "\n",
    "# Compute the correlation matrix\n",
    "corr = data.corr()\n",
    "\n",
    "# Generate a mask for the upper triangle\n",
    "mask = np.triu(np.ones_like(corr, dtype=bool))\n",
    "\n",
    "# Set up the matplotlib figure\n",
    "f, ax = plt.subplots(figsize=(11, 9))\n",
    "plt.title(\"Features correlation matrix\", fontsize = 18)\n",
    "\n",
    "# Generate a custom diverging colormap\n",
    "cmap = sns.diverging_palette(230, 20, as_cmap=True)\n",
    "\n",
    "# Draw the heatmap with the mask and correct aspect ratio\n",
    "sns.heatmap(corr, mask=mask, cmap=cmap, vmax=.3, center=0,\n",
    "            square=True, linewidths=.5, cbar_kws={\"shrink\": .5})"
   ]
  },
  {
   "cell_type": "markdown",
   "id": "704c381b-8730-4b05-81be-76a5efa4618f",
   "metadata": {},
   "source": [
    "Now the distribution of the dependent variable is reviewed, because I've recoded it into three classes. As can be seen, the classes are less imbalanced than before."
   ]
  },
  {
   "cell_type": "code",
   "execution_count": 16,
   "id": "8e73d680-4564-4dc8-9687-8fe9fec5dea3",
   "metadata": {},
   "outputs": [
    {
     "data": {
      "text/plain": [
       "<AxesSubplot:title={'center':'Distribution DAILY_STRESS'}, xlabel='DAILY_STRESS', ylabel='count'>"
      ]
     },
     "execution_count": 16,
     "metadata": {},
     "output_type": "execute_result"
    },
    {
     "data": {
      "image/png": "[encoded data removed]",
      "text/plain": [
       "<Figure size 720x288 with 1 Axes>"
      ]
     },
     "metadata": {},
     "output_type": "display_data"
    }
   ],
   "source": [
    "matplotlib.style.use('grayscale')\n",
    "\n",
    "plt.figure(figsize=(10,4))\n",
    "plt.title(\"Distribution DAILY_STRESS\", fontsize = 18)\n",
    "sns.countplot(x = data[\"DAILY_STRESS\"])"
   ]
  },
  {
   "cell_type": "code",
   "execution_count": 17,
   "id": "35382a37-d93d-4ba8-a3ab-2062e37ea823",
   "metadata": {},
   "outputs": [],
   "source": [
    "values_DS_new, counts_DS_new = np.unique(data[\"DAILY_STRESS\"], return_counts = True)"
   ]
  },
  {
   "cell_type": "code",
   "execution_count": 18,
   "id": "c227b5af-cf13-4d9d-8ecb-67f6d3e8ecd8",
   "metadata": {},
   "outputs": [
    {
     "name": "stdout",
     "output_type": "stream",
     "text": [
      "There are 3154 occurrences of the value: 1\n",
      "There are 7805 occurrences of the value: 2\n",
      "There are 5012 occurrences of the value: 3\n"
     ]
    }
   ],
   "source": [
    "print(\"There are\", counts_DS_new[0], \"occurrences of the value:\", values_DS_new[0])\n",
    "print(\"There are\", counts_DS_new[1], \"occurrences of the value:\", values_DS_new[1])\n",
    "print(\"There are\", counts_DS_new[2], \"occurrences of the value:\", values_DS_new[2])"
   ]
  },
  {
   "cell_type": "markdown",
   "id": "3e204b4e-cc28-485e-a11e-7a49ff800b34",
   "metadata": {},
   "source": [
    "## Step 5. Analysis"
   ]
  },
  {
   "cell_type": "markdown",
   "id": "804321a6-6ce2-45fd-8f1c-420c9960d6d6",
   "metadata": {},
   "source": [
    "### Base Model - Simple Linear Regression\n",
    "\n",
    "First a base model is created, which is a Simple Linear Regression. This acts as a baseline which will be compared with the Ordinal Regression Models to see how the performance of these models compare to the baseline model."
   ]
  },
  {
   "cell_type": "code",
   "execution_count": 19,
   "id": "172a9a9b-ba2e-4627-bf8c-25c0526d5bfc",
   "metadata": {},
   "outputs": [],
   "source": [
    "import copy\n",
    "from sklearn.model_selection import train_test_split\n",
    "data_LR = copy.deepcopy(data)\n",
    "\n",
    "X_LR = data_LR.drop([\"DAILY_STRESS\"], axis = 1)\n",
    "Y_LR = data_LR [\"DAILY_STRESS\"]\n",
    "\n",
    "X_train_LR, X_test_LR, y_train_LR, y_test_LR = train_test_split(X_LR, Y_LR, random_state = 0, stratify = Y_LR)"
   ]
  },
  {
   "cell_type": "code",
   "execution_count": 20,
   "id": "a5300268-7f6a-42ca-bb74-62fc2b43d77c",
   "metadata": {},
   "outputs": [],
   "source": [
    "from sklearn.linear_model import LinearRegression\n",
    "\n",
    "modelLR = LinearRegression().fit(X_train_LR, y_train_LR)"
   ]
  },
  {
   "cell_type": "code",
   "execution_count": 21,
   "id": "6525df92-d27f-426c-98db-b7da00839918",
   "metadata": {},
   "outputs": [],
   "source": [
    "pred_LR = modelLR.predict(X_test_LR)\n",
    "\n",
    "pred_stress_LR = [int(np.round(x)) for x in pred_LR]"
   ]
  },
  {
   "cell_type": "markdown",
   "id": "591b9fc4-60fc-4b3f-b620-dbf1b435b1cd",
   "metadata": {},
   "source": [
    "I've fitted the Linear Regression on the training data and subsequently predicted it on the test data. This is done for out-of-sample generalization."
   ]
  },
  {
   "cell_type": "markdown",
   "id": "2a7f3a1d-f604-4745-898e-c441fda2e5ed",
   "metadata": {},
   "source": [
    "Unfortunately, there is no python package for a very specific ordinal regression evaluation measure call the Closeness Evaluation Measure (CEM-ord), the confusion matrices of both y-true and y-pred are necessary to acquire this measure. See Amigó et al. (2020) An effectiveness metric for ordinal classification: Formal properties and experimental results for calculations."
   ]
  },
  {
   "cell_type": "code",
   "execution_count": 22,
   "id": "e20bf034-8635-4e26-9511-c74c079f8c79",
   "metadata": {},
   "outputs": [
    {
     "data": {
      "text/plain": [
       "array([[  38,  738,   13],\n",
       "       [  12, 1809,  130],\n",
       "       [   4,  949,  300]], dtype=int64)"
      ]
     },
     "execution_count": 22,
     "metadata": {},
     "output_type": "execute_result"
    }
   ],
   "source": [
    "from sklearn.metrics import confusion_matrix\n",
    "\n",
    "cm_LR = confusion_matrix(y_test_LR, pred_stress_LR)\n",
    "cm_LR"
   ]
  },
  {
   "cell_type": "code",
   "execution_count": 23,
   "id": "0ea56f81-5088-4883-9b64-b48160c63ab9",
   "metadata": {},
   "outputs": [
    {
     "data": {
      "text/plain": [
       "array([[ 789,    0,    0],\n",
       "       [   0, 1951,    0],\n",
       "       [   0,    0, 1253]], dtype=int64)"
      ]
     },
     "execution_count": 23,
     "metadata": {},
     "output_type": "execute_result"
    }
   ],
   "source": [
    "true_cm_LR = confusion_matrix(y_test_LR, y_test_LR)\n",
    "true_cm_LR"
   ]
  },
  {
   "cell_type": "code",
   "execution_count": 24,
   "id": "989b35ac-3ed7-4c08-b3cd-cf7fd806ecf0",
   "metadata": {},
   "outputs": [],
   "source": [
    "prox11_LR = np.log((1/((true_cm_LR[0,0]/2)/(y_test_LR.size))))\n",
    "prox12_LR = np.log((1/(((true_cm_LR[1,1]/2) + true_cm_LR[0,0])/(y_test_LR.size))))\n",
    "prox13_LR = np.log((1/(((true_cm_LR[2,2]/2) + true_cm_LR[0,0] + true_cm_LR[1,1])/(y_test_LR.size))))\n",
    "\n",
    "prox21_LR = np.log((1/(((true_cm_LR[0,0]/2) + true_cm_LR[1,1])/(y_test_LR.size))))\n",
    "prox22_LR = np.log((1/((true_cm_LR[1,1]/2)/(y_test_LR.size))))\n",
    "prox23_LR = np.log((1/(((true_cm_LR[2,2]/2) + true_cm_LR[1,1])/(y_test_LR.size))))\n",
    "\n",
    "prox31_LR = np.log((1/(((true_cm_LR[0,0]/2) + true_cm_LR[1,1] + true_cm_LR[2,2])/(y_test_LR.size))))\n",
    "prox32_LR = np.log((1/(((true_cm_LR[1,1]/2) + true_cm_LR[2,2])/(y_test_LR.size))))\n",
    "prox33_LR = np.log((1/((true_cm_LR[2,2]/2)/(y_test_LR.size))))"
   ]
  },
  {
   "cell_type": "code",
   "execution_count": 25,
   "id": "227d5121-f599-4496-bed5-482612ec2ced",
   "metadata": {},
   "outputs": [],
   "source": [
    "proximity_LR = np.asarray([[prox11_LR, prox12_LR, prox13_LR],\n",
    "                            [prox21_LR, prox22_LR, prox23_LR],\n",
    "                            [prox31_LR, prox32_LR, prox33_LR]])"
   ]
  },
  {
   "cell_type": "code",
   "execution_count": 26,
   "id": "ed0ba385-9522-4479-b9e4-6d36ecfdacad",
   "metadata": {},
   "outputs": [],
   "source": [
    "CEMord_LR = np.sum((cm_LR * proximity_LR)) / ((true_cm_LR[0,0] * prox11_LR) + (true_cm_LR[1,1] * prox22_LR) + \n",
    "                                              (true_cm_LR[2,2] * prox33_LR))"
   ]
  },
  {
   "cell_type": "markdown",
   "id": "6a84008d-7cfe-4d5a-b477-f8c9fbb839cb",
   "metadata": {},
   "source": [
    "Now the Linear Regression is evaluated using the Cohen's kappa, Macro-averaged Mean Absolute Error (for ordinal regression), F1, Precision, Recall, Accuracy and MAE. These evaluation measures will be used for all used models. For the F1, Precision and Recall scores there are values per class instead of a general value."
   ]
  },
  {
   "cell_type": "code",
   "execution_count": 27,
   "id": "30a79511-830d-45f9-aca5-7d14fd59b5a1",
   "metadata": {},
   "outputs": [
    {
     "name": "stdout",
     "output_type": "stream",
     "text": [
      "Accuracy score LR:  0.5376909591785625\n",
      "F1 score LR:  [0.09015421 0.66421884 0.35377358]\n",
      "Precision score LR:  [0.7037037  0.51744851 0.6772009 ]\n",
      "Recall score LR:  [0.04816223 0.92721681 0.23942538]\n",
      "Macro Averaged Mean Absolute Error LR:  0.6016214897776123\n",
      "Mean Absolute Error LR:  0.46656649135987976\n",
      "Cohen's Kappa LR:  0.22526961866008122\n",
      "Closeness Evaluation Measure LR:  0.6401955914905708\n"
     ]
    }
   ],
   "source": [
    "from sklearn.metrics import cohen_kappa_score\n",
    "from imblearn.metrics import macro_averaged_mean_absolute_error\n",
    "from sklearn.metrics import f1_score\n",
    "from sklearn.metrics import precision_score\n",
    "from sklearn.metrics import recall_score\n",
    "from sklearn.metrics import accuracy_score\n",
    "from sklearn.metrics import mean_absolute_error\n",
    "\n",
    "print(\"Accuracy score LR: \", accuracy_score(y_test_LR, pred_stress_LR))\n",
    "print(\"F1 score LR: \", f1_score(y_test_LR, pred_stress_LR, average = None))\n",
    "print(\"Precision score LR: \", precision_score(y_test_LR, pred_stress_LR, average = None))\n",
    "print(\"Recall score LR: \", recall_score(y_test_LR, pred_stress_LR, average = None))\n",
    "print(\"Macro Averaged Mean Absolute Error LR: \", macro_averaged_mean_absolute_error(y_test_LR, pred_stress_LR))\n",
    "print(\"Mean Absolute Error LR: \", mean_absolute_error(y_test_LR, pred_stress_LR))\n",
    "print(\"Cohen's Kappa LR: \",cohen_kappa_score(y_test_LR, pred_stress_LR, weights = 'quadratic'))\n",
    "print(\"Closeness Evaluation Measure LR: \", CEMord_LR)"
   ]
  },
  {
   "cell_type": "markdown",
   "id": "7bf5a945-9d5b-4e97-97a4-c8194af8406d",
   "metadata": {},
   "source": [
    "### Ordered Logit Model\n",
    "\n",
    "The Ordered Logit Model is an extension to a Logistic Regression, but in this case it allow for more than 2 classes. Since the dependent variable is divided into three classes, this is a perfect model. Furthermore, it reviews the order of the classes of the dependent variable and shows in its output whether the model is able to correctly distinguish the classes.\n",
    "\n",
    "https://analyticsindiamag.com/a-complete-tutorial-on-ordinal-regression-in-python/"
   ]
  },
  {
   "cell_type": "code",
   "execution_count": 28,
   "id": "5ca6023b-fb8f-49e4-ad9e-b617b614db37",
   "metadata": {},
   "outputs": [],
   "source": [
    "data_OLM = copy.deepcopy(data)"
   ]
  },
  {
   "cell_type": "markdown",
   "id": "783470af-9c5a-4da7-9d0f-094890c831af",
   "metadata": {},
   "source": [
    "Recode the classes into categories and order them."
   ]
  },
  {
   "cell_type": "code",
   "execution_count": 29,
   "id": "900991cd-34a2-4c67-92a9-7252dba79c06",
   "metadata": {},
   "outputs": [],
   "source": [
    "stress_dict = {1 : 'Mild stress', 2: 'Moderate stress', 3: 'Severe stress'}\n",
    "data_OLM['DAILY_STRESS'] = pd.Series([stress_dict[x] for x in data_OLM.DAILY_STRESS], index=data_OLM.index)"
   ]
  },
  {
   "cell_type": "code",
   "execution_count": 30,
   "id": "954fd92a-5a87-4063-b627-0b18f9a0ac2a",
   "metadata": {},
   "outputs": [],
   "source": [
    "data_OLM['DAILY_STRESS'] = data_OLM['DAILY_STRESS'].astype(\"category\")"
   ]
  },
  {
   "cell_type": "code",
   "execution_count": 31,
   "id": "3577c333-1760-4302-b7d1-d292df3f23e2",
   "metadata": {},
   "outputs": [],
   "source": [
    "data_OLM[\"DAILY_STRESS\"] = data_OLM[\"DAILY_STRESS\"].cat.set_categories([\"Mild stress\", \"Moderate stress\", \"Severe stress\"], ordered=True)"
   ]
  },
  {
   "cell_type": "code",
   "execution_count": 32,
   "id": "191207e5-4de6-4582-b046-9121f55a17f2",
   "metadata": {},
   "outputs": [
    {
     "name": "stdout",
     "output_type": "stream",
     "text": [
      "Optimization terminated successfully.\n",
      "         Current function value: 0.932431\n",
      "         Iterations: 59\n",
      "         Function evaluations: 63\n",
      "         Gradient evaluations: 63\n"
     ]
    },
    {
     "data": {
      "text/html": [
       "<table class=\"simpletable\">\n",
       "<caption>OrderedModel Results</caption>\n",
       "<tr>\n",
       "  <th>Dep. Variable:</th>       <td>DAILY_STRESS</td>    <th>  Log-Likelihood:    </th> <td> -11169.</td> \n",
       "</tr>\n",
       "<tr>\n",
       "  <th>Model:</th>               <td>OrderedModel</td>    <th>  AIC:               </th> <td>2.239e+04</td>\n",
       "</tr>\n",
       "<tr>\n",
       "  <th>Method:</th>           <td>Maximum Likelihood</td> <th>  BIC:               </th> <td>2.256e+04</td>\n",
       "</tr>\n",
       "<tr>\n",
       "  <th>Date:</th>              <td>Fri, 02 Dec 2022</td>  <th>                     </th>     <td> </td>    \n",
       "</tr>\n",
       "<tr>\n",
       "  <th>Time:</th>                  <td>16:54:46</td>      <th>                     </th>     <td> </td>    \n",
       "</tr>\n",
       "<tr>\n",
       "  <th>No. Observations:</th>       <td> 11978</td>       <th>                     </th>     <td> </td>    \n",
       "</tr>\n",
       "<tr>\n",
       "  <th>Df Residuals:</th>           <td> 11954</td>       <th>                     </th>     <td> </td>    \n",
       "</tr>\n",
       "<tr>\n",
       "  <th>Df Model:</th>               <td>    24</td>       <th>                     </th>     <td> </td>    \n",
       "</tr>\n",
       "</table>\n",
       "<table class=\"simpletable\">\n",
       "<tr>\n",
       "                <td></td>                   <th>coef</th>     <th>std err</th>      <th>z</th>      <th>P>|z|</th>  <th>[0.025</th>    <th>0.975]</th>  \n",
       "</tr>\n",
       "<tr>\n",
       "  <th>FRUITS_VEGGIES</th>                <td>    0.0012</td> <td>    0.014</td> <td>    0.086</td> <td> 0.931</td> <td>   -0.026</td> <td>    0.028</td>\n",
       "</tr>\n",
       "<tr>\n",
       "  <th>PLACES_VISITED</th>                <td>   -0.0111</td> <td>    0.006</td> <td>   -1.807</td> <td> 0.071</td> <td>   -0.023</td> <td>    0.001</td>\n",
       "</tr>\n",
       "<tr>\n",
       "  <th>CORE_CIRCLE</th>                   <td>   -0.0465</td> <td>    0.007</td> <td>   -6.418</td> <td> 0.000</td> <td>   -0.061</td> <td>   -0.032</td>\n",
       "</tr>\n",
       "<tr>\n",
       "  <th>SUPPORTING_OTHERS</th>             <td>    0.0291</td> <td>    0.007</td> <td>    4.228</td> <td> 0.000</td> <td>    0.016</td> <td>    0.043</td>\n",
       "</tr>\n",
       "<tr>\n",
       "  <th>SOCIAL_NETWORK</th>                <td>    0.0567</td> <td>    0.007</td> <td>    8.546</td> <td> 0.000</td> <td>    0.044</td> <td>    0.070</td>\n",
       "</tr>\n",
       "<tr>\n",
       "  <th>ACHIEVEMENT</th>                   <td>   -0.0201</td> <td>    0.008</td> <td>   -2.519</td> <td> 0.012</td> <td>   -0.036</td> <td>   -0.004</td>\n",
       "</tr>\n",
       "<tr>\n",
       "  <th>DONATION</th>                      <td>    0.0106</td> <td>    0.011</td> <td>    0.959</td> <td> 0.338</td> <td>   -0.011</td> <td>    0.032</td>\n",
       "</tr>\n",
       "<tr>\n",
       "  <th>BMI_RANGE</th>                     <td>    0.1730</td> <td>    0.038</td> <td>    4.527</td> <td> 0.000</td> <td>    0.098</td> <td>    0.248</td>\n",
       "</tr>\n",
       "<tr>\n",
       "  <th>TODO_COMPLETED</th>                <td>   -0.0300</td> <td>    0.008</td> <td>   -3.785</td> <td> 0.000</td> <td>   -0.046</td> <td>   -0.014</td>\n",
       "</tr>\n",
       "<tr>\n",
       "  <th>FLOW</th>                          <td>   -0.0604</td> <td>    0.009</td> <td>   -6.551</td> <td> 0.000</td> <td>   -0.078</td> <td>   -0.042</td>\n",
       "</tr>\n",
       "<tr>\n",
       "  <th>DAILY_STEPS</th>                   <td>   -0.0029</td> <td>    0.007</td> <td>   -0.429</td> <td> 0.668</td> <td>   -0.016</td> <td>    0.010</td>\n",
       "</tr>\n",
       "<tr>\n",
       "  <th>LIFE_VISION</th>                   <td>   -0.0249</td> <td>    0.006</td> <td>   -4.015</td> <td> 0.000</td> <td>   -0.037</td> <td>   -0.013</td>\n",
       "</tr>\n",
       "<tr>\n",
       "  <th>SLEEP_HOURS</th>                   <td>   -0.1491</td> <td>    0.016</td> <td>   -9.370</td> <td> 0.000</td> <td>   -0.180</td> <td>   -0.118</td>\n",
       "</tr>\n",
       "<tr>\n",
       "  <th>LOST_VACATION</th>                 <td>    0.0771</td> <td>    0.005</td> <td>   15.250</td> <td> 0.000</td> <td>    0.067</td> <td>    0.087</td>\n",
       "</tr>\n",
       "<tr>\n",
       "  <th>DAILY_SHOUTING</th>                <td>    0.1794</td> <td>    0.007</td> <td>   24.698</td> <td> 0.000</td> <td>    0.165</td> <td>    0.194</td>\n",
       "</tr>\n",
       "<tr>\n",
       "  <th>SUFFICIENT_INCOME</th>             <td>   -0.3755</td> <td>    0.043</td> <td>   -8.750</td> <td> 0.000</td> <td>   -0.460</td> <td>   -0.291</td>\n",
       "</tr>\n",
       "<tr>\n",
       "  <th>PERSONAL_AWARDS</th>               <td>    0.0280</td> <td>    0.007</td> <td>    4.135</td> <td> 0.000</td> <td>    0.015</td> <td>    0.041</td>\n",
       "</tr>\n",
       "<tr>\n",
       "  <th>TIME_FOR_PASSION</th>              <td>   -0.0435</td> <td>    0.008</td> <td>   -5.402</td> <td> 0.000</td> <td>   -0.059</td> <td>   -0.028</td>\n",
       "</tr>\n",
       "<tr>\n",
       "  <th>WEEKLY_MEDITATION</th>             <td>   -0.0865</td> <td>    0.007</td> <td>  -13.158</td> <td> 0.000</td> <td>   -0.099</td> <td>   -0.074</td>\n",
       "</tr>\n",
       "<tr>\n",
       "  <th>AGE</th>                           <td>   -0.0004</td> <td>    0.021</td> <td>   -0.021</td> <td> 0.983</td> <td>   -0.042</td> <td>    0.041</td>\n",
       "</tr>\n",
       "<tr>\n",
       "  <th>GENDER</th>                        <td>    0.3797</td> <td>    0.039</td> <td>    9.842</td> <td> 0.000</td> <td>    0.304</td> <td>    0.455</td>\n",
       "</tr>\n",
       "<tr>\n",
       "  <th>YEAR</th>                          <td>    0.0187</td> <td>    0.010</td> <td>    1.859</td> <td> 0.063</td> <td>   -0.001</td> <td>    0.038</td>\n",
       "</tr>\n",
       "<tr>\n",
       "  <th>Mild stress/Moderate stress</th>   <td>   34.8056</td> <td>   20.301</td> <td>    1.715</td> <td> 0.086</td> <td>   -4.983</td> <td>   74.594</td>\n",
       "</tr>\n",
       "<tr>\n",
       "  <th>Moderate stress/Severe stress</th> <td>    0.9356</td> <td>    0.012</td> <td>   79.769</td> <td> 0.000</td> <td>    0.913</td> <td>    0.959</td>\n",
       "</tr>\n",
       "</table>"
      ],
      "text/plain": [
       "<class 'statsmodels.iolib.summary.Summary'>\n",
       "\"\"\"\n",
       "                             OrderedModel Results                             \n",
       "==============================================================================\n",
       "Dep. Variable:           DAILY_STRESS   Log-Likelihood:                -11169.\n",
       "Model:                   OrderedModel   AIC:                         2.239e+04\n",
       "Method:            Maximum Likelihood   BIC:                         2.256e+04\n",
       "Date:                Fri, 02 Dec 2022                                         \n",
       "Time:                        16:54:46                                         \n",
       "No. Observations:               11978                                         \n",
       "Df Residuals:                   11954                                         \n",
       "Df Model:                          24                                         \n",
       "=================================================================================================\n",
       "                                    coef    std err          z      P>|z|      [0.025      0.975]\n",
       "-------------------------------------------------------------------------------------------------\n",
       "FRUITS_VEGGIES                    0.0012      0.014      0.086      0.931      -0.026       0.028\n",
       "PLACES_VISITED                   -0.0111      0.006     -1.807      0.071      -0.023       0.001\n",
       "CORE_CIRCLE                      -0.0465      0.007     -6.418      0.000      -0.061      -0.032\n",
       "SUPPORTING_OTHERS                 0.0291      0.007      4.228      0.000       0.016       0.043\n",
       "SOCIAL_NETWORK                    0.0567      0.007      8.546      0.000       0.044       0.070\n",
       "ACHIEVEMENT                      -0.0201      0.008     -2.519      0.012      -0.036      -0.004\n",
       "DONATION                          0.0106      0.011      0.959      0.338      -0.011       0.032\n",
       "BMI_RANGE                         0.1730      0.038      4.527      0.000       0.098       0.248\n",
       "TODO_COMPLETED                   -0.0300      0.008     -3.785      0.000      -0.046      -0.014\n",
       "FLOW                             -0.0604      0.009     -6.551      0.000      -0.078      -0.042\n",
       "DAILY_STEPS                      -0.0029      0.007     -0.429      0.668      -0.016       0.010\n",
       "LIFE_VISION                      -0.0249      0.006     -4.015      0.000      -0.037      -0.013\n",
       "SLEEP_HOURS                      -0.1491      0.016     -9.370      0.000      -0.180      -0.118\n",
       "LOST_VACATION                     0.0771      0.005     15.250      0.000       0.067       0.087\n",
       "DAILY_SHOUTING                    0.1794      0.007     24.698      0.000       0.165       0.194\n",
       "SUFFICIENT_INCOME                -0.3755      0.043     -8.750      0.000      -0.460      -0.291\n",
       "PERSONAL_AWARDS                   0.0280      0.007      4.135      0.000       0.015       0.041\n",
       "TIME_FOR_PASSION                 -0.0435      0.008     -5.402      0.000      -0.059      -0.028\n",
       "WEEKLY_MEDITATION                -0.0865      0.007    -13.158      0.000      -0.099      -0.074\n",
       "AGE                              -0.0004      0.021     -0.021      0.983      -0.042       0.041\n",
       "GENDER                            0.3797      0.039      9.842      0.000       0.304       0.455\n",
       "YEAR                              0.0187      0.010      1.859      0.063      -0.001       0.038\n",
       "Mild stress/Moderate stress      34.8056     20.301      1.715      0.086      -4.983      74.594\n",
       "Moderate stress/Severe stress     0.9356      0.012     79.769      0.000       0.913       0.959\n",
       "=================================================================================================\n",
       "\"\"\""
      ]
     },
     "execution_count": 32,
     "metadata": {},
     "output_type": "execute_result"
    }
   ],
   "source": [
    "from statsmodels.miscmodels.ordinal_model import OrderedModel\n",
    "\n",
    "X_OLM = data_OLM.drop([\"DAILY_STRESS\"], axis = 1)\n",
    "Y_OLM = data_OLM[\"DAILY_STRESS\"]\n",
    "\n",
    "X_train, X_test, y_train, y_test = train_test_split(X_OLM, Y_OLM, random_state = 0, stratify = Y_OLM)\n",
    "\n",
    "model = OrderedModel(y_train, X_train, distr='logit')\n",
    "model = model.fit(method = 'bfgs')\n",
    "model.summary()"
   ]
  },
  {
   "cell_type": "markdown",
   "id": "ee4b00b4-393c-4040-ac16-fd2b22091bef",
   "metadata": {},
   "source": [
    "Keep the t values into a list for visualization purposes of feature importance. More later."
   ]
  },
  {
   "cell_type": "code",
   "execution_count": 33,
   "id": "4c9cc0fa-f732-41fe-9b50-aa84a92e7974",
   "metadata": {},
   "outputs": [],
   "source": [
    "tvalues = model.tvalues[:22]\n",
    "tvalues = abs(tvalues)\n",
    "tvalues = tvalues.sort_values()\n",
    "names = list(tvalues.index)"
   ]
  },
  {
   "cell_type": "markdown",
   "id": "d9d86006-b525-4aa2-bec6-745e789b4685",
   "metadata": {},
   "source": [
    "Feature importance shows us which features are important (every feature with significant results). These features are selected into the final OLM model."
   ]
  },
  {
   "cell_type": "code",
   "execution_count": 34,
   "id": "5ef62bc2-d3bc-4cb4-8a12-e86bc9ce031c",
   "metadata": {},
   "outputs": [],
   "source": [
    "Y_OLM_new = data_OLM['DAILY_STRESS']\n",
    "X_OLM_new = data_OLM[['PLACES_VISITED', 'CORE_CIRCLE', 'SUPPORTING_OTHERS', 'SOCIAL_NETWORK',\n",
    "                  'ACHIEVEMENT', 'BMI_RANGE', 'TODO_COMPLETED', 'FLOW', 'LIFE_VISION',\n",
    "                  'SLEEP_HOURS', 'LOST_VACATION', 'DAILY_SHOUTING', 'SUFFICIENT_INCOME',\n",
    "                  'PERSONAL_AWARDS', 'TIME_FOR_PASSION', 'WEEKLY_MEDITATION', 'GENDER']]\n",
    "\n",
    "X_train_OLM, X_test_OLM, y_train_OLM, y_test_OLM = train_test_split(X_OLM_new, Y_OLM_new, random_state = 0, stratify = Y_OLM_new)\n",
    "\n",
    "mod_logit = OrderedModel(y_train_OLM, X_train_OLM, distr='logit')"
   ]
  },
  {
   "cell_type": "code",
   "execution_count": 35,
   "id": "ed7db26c-d24c-47c1-8065-4b1d53332087",
   "metadata": {},
   "outputs": [
    {
     "name": "stdout",
     "output_type": "stream",
     "text": [
      "Optimization terminated successfully.\n",
      "         Current function value: 0.932621\n",
      "         Iterations: 32\n",
      "         Function evaluations: 34\n",
      "         Gradient evaluations: 34\n"
     ]
    },
    {
     "data": {
      "text/html": [
       "<table class=\"simpletable\">\n",
       "<caption>OrderedModel Results</caption>\n",
       "<tr>\n",
       "  <th>Dep. Variable:</th>       <td>DAILY_STRESS</td>    <th>  Log-Likelihood:    </th> <td> -11171.</td> \n",
       "</tr>\n",
       "<tr>\n",
       "  <th>Model:</th>               <td>OrderedModel</td>    <th>  AIC:               </th> <td>2.238e+04</td>\n",
       "</tr>\n",
       "<tr>\n",
       "  <th>Method:</th>           <td>Maximum Likelihood</td> <th>  BIC:               </th> <td>2.252e+04</td>\n",
       "</tr>\n",
       "<tr>\n",
       "  <th>Date:</th>              <td>Fri, 02 Dec 2022</td>  <th>                     </th>     <td> </td>    \n",
       "</tr>\n",
       "<tr>\n",
       "  <th>Time:</th>                  <td>16:54:51</td>      <th>                     </th>     <td> </td>    \n",
       "</tr>\n",
       "<tr>\n",
       "  <th>No. Observations:</th>       <td> 11978</td>       <th>                     </th>     <td> </td>    \n",
       "</tr>\n",
       "<tr>\n",
       "  <th>Df Residuals:</th>           <td> 11959</td>       <th>                     </th>     <td> </td>    \n",
       "</tr>\n",
       "<tr>\n",
       "  <th>Df Model:</th>               <td>    19</td>       <th>                     </th>     <td> </td>    \n",
       "</tr>\n",
       "</table>\n",
       "<table class=\"simpletable\">\n",
       "<tr>\n",
       "                <td></td>                   <th>coef</th>     <th>std err</th>      <th>z</th>      <th>P>|z|</th>  <th>[0.025</th>    <th>0.975]</th>  \n",
       "</tr>\n",
       "<tr>\n",
       "  <th>PLACES_VISITED</th>                <td>   -0.0114</td> <td>    0.006</td> <td>   -1.894</td> <td> 0.058</td> <td>   -0.023</td> <td>    0.000</td>\n",
       "</tr>\n",
       "<tr>\n",
       "  <th>CORE_CIRCLE</th>                   <td>   -0.0459</td> <td>    0.007</td> <td>   -6.354</td> <td> 0.000</td> <td>   -0.060</td> <td>   -0.032</td>\n",
       "</tr>\n",
       "<tr>\n",
       "  <th>SUPPORTING_OTHERS</th>             <td>    0.0308</td> <td>    0.007</td> <td>    4.644</td> <td> 0.000</td> <td>    0.018</td> <td>    0.044</td>\n",
       "</tr>\n",
       "<tr>\n",
       "  <th>SOCIAL_NETWORK</th>                <td>    0.0554</td> <td>    0.007</td> <td>    8.526</td> <td> 0.000</td> <td>    0.043</td> <td>    0.068</td>\n",
       "</tr>\n",
       "<tr>\n",
       "  <th>ACHIEVEMENT</th>                   <td>   -0.0197</td> <td>    0.008</td> <td>   -2.486</td> <td> 0.013</td> <td>   -0.035</td> <td>   -0.004</td>\n",
       "</tr>\n",
       "<tr>\n",
       "  <th>BMI_RANGE</th>                     <td>    0.1799</td> <td>    0.037</td> <td>    4.860</td> <td> 0.000</td> <td>    0.107</td> <td>    0.252</td>\n",
       "</tr>\n",
       "<tr>\n",
       "  <th>TODO_COMPLETED</th>                <td>   -0.0296</td> <td>    0.008</td> <td>   -3.764</td> <td> 0.000</td> <td>   -0.045</td> <td>   -0.014</td>\n",
       "</tr>\n",
       "<tr>\n",
       "  <th>FLOW</th>                          <td>   -0.0598</td> <td>    0.009</td> <td>   -6.495</td> <td> 0.000</td> <td>   -0.078</td> <td>   -0.042</td>\n",
       "</tr>\n",
       "<tr>\n",
       "  <th>LIFE_VISION</th>                   <td>   -0.0247</td> <td>    0.006</td> <td>   -3.992</td> <td> 0.000</td> <td>   -0.037</td> <td>   -0.013</td>\n",
       "</tr>\n",
       "<tr>\n",
       "  <th>SLEEP_HOURS</th>                   <td>   -0.1504</td> <td>    0.016</td> <td>   -9.509</td> <td> 0.000</td> <td>   -0.181</td> <td>   -0.119</td>\n",
       "</tr>\n",
       "<tr>\n",
       "  <th>LOST_VACATION</th>                 <td>    0.0773</td> <td>    0.005</td> <td>   15.314</td> <td> 0.000</td> <td>    0.067</td> <td>    0.087</td>\n",
       "</tr>\n",
       "<tr>\n",
       "  <th>DAILY_SHOUTING</th>                <td>    0.1790</td> <td>    0.007</td> <td>   24.753</td> <td> 0.000</td> <td>    0.165</td> <td>    0.193</td>\n",
       "</tr>\n",
       "<tr>\n",
       "  <th>SUFFICIENT_INCOME</th>             <td>   -0.3720</td> <td>    0.042</td> <td>   -8.785</td> <td> 0.000</td> <td>   -0.455</td> <td>   -0.289</td>\n",
       "</tr>\n",
       "<tr>\n",
       "  <th>PERSONAL_AWARDS</th>               <td>    0.0284</td> <td>    0.007</td> <td>    4.243</td> <td> 0.000</td> <td>    0.015</td> <td>    0.042</td>\n",
       "</tr>\n",
       "<tr>\n",
       "  <th>TIME_FOR_PASSION</th>              <td>   -0.0430</td> <td>    0.008</td> <td>   -5.358</td> <td> 0.000</td> <td>   -0.059</td> <td>   -0.027</td>\n",
       "</tr>\n",
       "<tr>\n",
       "  <th>WEEKLY_MEDITATION</th>             <td>   -0.0865</td> <td>    0.006</td> <td>  -13.356</td> <td> 0.000</td> <td>   -0.099</td> <td>   -0.074</td>\n",
       "</tr>\n",
       "<tr>\n",
       "  <th>GENDER</th>                        <td>    0.3861</td> <td>    0.038</td> <td>   10.128</td> <td> 0.000</td> <td>    0.311</td> <td>    0.461</td>\n",
       "</tr>\n",
       "<tr>\n",
       "  <th>Mild stress/Moderate stress</th>   <td>   -2.9221</td> <td>    0.157</td> <td>  -18.560</td> <td> 0.000</td> <td>   -3.231</td> <td>   -2.614</td>\n",
       "</tr>\n",
       "<tr>\n",
       "  <th>Moderate stress/Severe stress</th> <td>    0.9353</td> <td>    0.012</td> <td>   79.743</td> <td> 0.000</td> <td>    0.912</td> <td>    0.958</td>\n",
       "</tr>\n",
       "</table>"
      ],
      "text/plain": [
       "<class 'statsmodels.iolib.summary.Summary'>\n",
       "\"\"\"\n",
       "                             OrderedModel Results                             \n",
       "==============================================================================\n",
       "Dep. Variable:           DAILY_STRESS   Log-Likelihood:                -11171.\n",
       "Model:                   OrderedModel   AIC:                         2.238e+04\n",
       "Method:            Maximum Likelihood   BIC:                         2.252e+04\n",
       "Date:                Fri, 02 Dec 2022                                         \n",
       "Time:                        16:54:51                                         \n",
       "No. Observations:               11978                                         \n",
       "Df Residuals:                   11959                                         \n",
       "Df Model:                          19                                         \n",
       "=================================================================================================\n",
       "                                    coef    std err          z      P>|z|      [0.025      0.975]\n",
       "-------------------------------------------------------------------------------------------------\n",
       "PLACES_VISITED                   -0.0114      0.006     -1.894      0.058      -0.023       0.000\n",
       "CORE_CIRCLE                      -0.0459      0.007     -6.354      0.000      -0.060      -0.032\n",
       "SUPPORTING_OTHERS                 0.0308      0.007      4.644      0.000       0.018       0.044\n",
       "SOCIAL_NETWORK                    0.0554      0.007      8.526      0.000       0.043       0.068\n",
       "ACHIEVEMENT                      -0.0197      0.008     -2.486      0.013      -0.035      -0.004\n",
       "BMI_RANGE                         0.1799      0.037      4.860      0.000       0.107       0.252\n",
       "TODO_COMPLETED                   -0.0296      0.008     -3.764      0.000      -0.045      -0.014\n",
       "FLOW                             -0.0598      0.009     -6.495      0.000      -0.078      -0.042\n",
       "LIFE_VISION                      -0.0247      0.006     -3.992      0.000      -0.037      -0.013\n",
       "SLEEP_HOURS                      -0.1504      0.016     -9.509      0.000      -0.181      -0.119\n",
       "LOST_VACATION                     0.0773      0.005     15.314      0.000       0.067       0.087\n",
       "DAILY_SHOUTING                    0.1790      0.007     24.753      0.000       0.165       0.193\n",
       "SUFFICIENT_INCOME                -0.3720      0.042     -8.785      0.000      -0.455      -0.289\n",
       "PERSONAL_AWARDS                   0.0284      0.007      4.243      0.000       0.015       0.042\n",
       "TIME_FOR_PASSION                 -0.0430      0.008     -5.358      0.000      -0.059      -0.027\n",
       "WEEKLY_MEDITATION                -0.0865      0.006    -13.356      0.000      -0.099      -0.074\n",
       "GENDER                            0.3861      0.038     10.128      0.000       0.311       0.461\n",
       "Mild stress/Moderate stress      -2.9221      0.157    -18.560      0.000      -3.231      -2.614\n",
       "Moderate stress/Severe stress     0.9353      0.012     79.743      0.000       0.912       0.958\n",
       "=================================================================================================\n",
       "\"\"\""
      ]
     },
     "execution_count": 35,
     "metadata": {},
     "output_type": "execute_result"
    }
   ],
   "source": [
    "res_logit = mod_logit.fit(method='bfgs')\n",
    "res_logit.summary()"
   ]
  },
  {
   "cell_type": "code",
   "execution_count": 36,
   "id": "5caf47a0-c852-4253-b750-b4e8e768cee7",
   "metadata": {},
   "outputs": [
    {
     "name": "stderr",
     "output_type": "stream",
     "text": [
      "C:\\Users\\youri\\anaconda3\\lib\\site-packages\\statsmodels\\miscmodels\\ordinal_model.py:419: FutureWarning: Support for multi-dimensional indexing (e.g. `obj[:, None]`) is deprecated and will be removed in a future version.  Convert to a numpy array before indexing instead.\n",
      "  xb = xb[:, None]\n"
     ]
    },
    {
     "data": {
      "text/plain": [
       "array([[0.22741037, 0.56260399, 0.20998564],\n",
       "       [0.30609145, 0.54326309, 0.15064547],\n",
       "       [0.12467229, 0.52077673, 0.35455098],\n",
       "       ...,\n",
       "       [0.09816952, 0.48365628, 0.4181742 ],\n",
       "       [0.2118057 , 0.56269972, 0.22549458],\n",
       "       [0.2730365 , 0.55456641, 0.17239708]])"
      ]
     },
     "execution_count": 36,
     "metadata": {},
     "output_type": "execute_result"
    }
   ],
   "source": [
    "predicted = res_logit.model.predict(res_logit.params, exog=X_test_OLM)\n",
    "predicted"
   ]
  },
  {
   "cell_type": "markdown",
   "id": "32cf557f-db5c-442f-990a-65f4a8c86b54",
   "metadata": {},
   "source": [
    "After prediction, the values 'mild stress', 'moderate stress' and 'severe stress' of the y_test are recoded back into numbers, for which a confusion matrix can be made."
   ]
  },
  {
   "cell_type": "code",
   "execution_count": 37,
   "id": "845bf62c-18dc-43bb-8f4e-d99b14af7514",
   "metadata": {},
   "outputs": [],
   "source": [
    "y_test_OLM = y_test_OLM.cat.set_categories([\"Mild stress\", \"Moderate stress\", \"Severe stress\"], ordered=False)\n",
    "y_test_OLM = y_test_OLM.astype('str')"
   ]
  },
  {
   "cell_type": "code",
   "execution_count": 38,
   "id": "52ddeba1-4f1a-4f51-9ad1-e5b399a57724",
   "metadata": {},
   "outputs": [],
   "source": [
    "pred_stress_OLM = predicted.argmax(1)\n",
    "y_test_OLM_new = []\n",
    "\n",
    "for values in y_test_OLM:\n",
    "    if values == \"Mild stress\":\n",
    "        y_test_OLM_new.append(0)\n",
    "    elif values == \"Moderate stress\":\n",
    "        y_test_OLM_new.append(1)\n",
    "    else:\n",
    "        y_test_OLM_new.append(2)\n",
    "        \n",
    "y_test_OLM_new = np.array(y_test_OLM_new)"
   ]
  },
  {
   "cell_type": "markdown",
   "id": "25bbc314-8a8f-4219-8375-bad9a24b95aa",
   "metadata": {},
   "source": [
    "Confusion matrix of the OLM, also for calculation of the CEM-ord."
   ]
  },
  {
   "cell_type": "code",
   "execution_count": 39,
   "id": "cd7a66c2-c712-4860-8a89-9e1ae7883533",
   "metadata": {},
   "outputs": [
    {
     "data": {
      "text/plain": [
       "array([[ 116,  633,   40],\n",
       "       [  67, 1573,  311],\n",
       "       [  17,  764,  472]], dtype=int64)"
      ]
     },
     "execution_count": 39,
     "metadata": {},
     "output_type": "execute_result"
    }
   ],
   "source": [
    "cm_OLM = confusion_matrix(y_test_OLM_new, pred_stress_OLM)\n",
    "cm_OLM"
   ]
  },
  {
   "cell_type": "code",
   "execution_count": 40,
   "id": "eafd2653-2104-4e91-878f-631c52c373f0",
   "metadata": {},
   "outputs": [
    {
     "data": {
      "image/png": "[encoded data removed]",
      "text/plain": [
       "<Figure size 432x288 with 2 Axes>"
      ]
     },
     "metadata": {},
     "output_type": "display_data"
    }
   ],
   "source": [
    "from sklearn.metrics import ConfusionMatrixDisplay\n",
    "\n",
    "ConfusionMatrixDisplay(cm_OLM).plot()\n",
    "plt.show()"
   ]
  },
  {
   "cell_type": "code",
   "execution_count": 41,
   "id": "5086712d-a6b1-4526-b7c5-124cd0e79cca",
   "metadata": {},
   "outputs": [
    {
     "data": {
      "text/plain": [
       "array([[ 789,    0,    0],\n",
       "       [   0, 1951,    0],\n",
       "       [   0,    0, 1253]], dtype=int64)"
      ]
     },
     "execution_count": 41,
     "metadata": {},
     "output_type": "execute_result"
    }
   ],
   "source": [
    "true_cm_OLM = confusion_matrix(y_test_OLM_new, y_test_OLM_new)\n",
    "true_cm_OLM"
   ]
  },
  {
   "cell_type": "code",
   "execution_count": 42,
   "id": "b6b0b936-f595-4890-8d62-7a460cc96247",
   "metadata": {},
   "outputs": [],
   "source": [
    "prox11_OLM = np.log((1/((true_cm_OLM[0,0]/2)/(y_test_OLM_new.size))))\n",
    "prox12_OLM = np.log((1/(((true_cm_OLM[1,1]/2) + true_cm_OLM[0,0])/(y_test_OLM_new.size))))\n",
    "prox13_OLM = np.log((1/(((true_cm_OLM[2,2]/2) + true_cm_OLM[0,0] + true_cm_OLM[1,1])/(y_test_OLM_new.size))))\n",
    "\n",
    "prox21_OLM = np.log((1/(((true_cm_OLM[0,0]/2) + true_cm_OLM[1,1])/(y_test_OLM_new.size))))\n",
    "prox22_OLM = np.log((1/((true_cm_OLM[1,1]/2)/(y_test_OLM_new.size))))\n",
    "prox23_OLM = np.log((1/(((true_cm_OLM[2,2]/2) + true_cm_OLM[1,1])/(y_test_OLM_new.size))))\n",
    "\n",
    "prox31_OLM = np.log((1/(((true_cm_OLM[0,0]/2) + true_cm_OLM[1,1] + true_cm_OLM[2,2])/(y_test_OLM_new.size))))\n",
    "prox32_OLM = np.log((1/(((true_cm_OLM[1,1]/2) + true_cm_OLM[2,2])/(y_test_OLM_new.size))))\n",
    "prox33_OLM = np.log((1/((true_cm_OLM[2,2]/2)/(y_test_OLM_new.size))))"
   ]
  },
  {
   "cell_type": "code",
   "execution_count": 43,
   "id": "9b517bc4-489c-4338-8833-6ca49c6ac98b",
   "metadata": {},
   "outputs": [],
   "source": [
    "proximity_OLM = np.asarray([[prox11_OLM, prox12_OLM, prox13_OLM],\n",
    "                            [prox21_OLM, prox22_OLM, prox23_OLM],\n",
    "                            [prox31_OLM, prox32_OLM, prox33_OLM]])"
   ]
  },
  {
   "cell_type": "code",
   "execution_count": 44,
   "id": "cef50abc-7b6d-4825-85f5-2e4e909c4098",
   "metadata": {},
   "outputs": [],
   "source": [
    "CEMord_OLM = np.sum((cm_OLM * proximity_OLM)) / ((true_cm_OLM[0,0] * prox11_OLM) + (true_cm_OLM[1,1] * prox22_OLM) + \n",
    "                                              (true_cm_OLM[2,2] * prox33_OLM))"
   ]
  },
  {
   "cell_type": "markdown",
   "id": "87cda44b-8c4e-48b1-a868-8be15c3b6379",
   "metadata": {},
   "source": [
    "Evaluation and error metrics of the Ordered Logit Model."
   ]
  },
  {
   "cell_type": "code",
   "execution_count": 45,
   "id": "5936aa71-915d-4dbf-9303-b340cd2cc204",
   "metadata": {},
   "outputs": [
    {
     "name": "stdout",
     "output_type": "stream",
     "text": [
      "Accuracy score OLM:  0.5411970949161031\n",
      "F1 score OLM:  [0.23458038 0.63930096 0.45472062]\n",
      "Precision score OLM:  [0.58       0.52962963 0.57351154]\n",
      "Recall score OLM:  [0.14702155 0.8062532  0.37669593]\n",
      "Macro Averaged Mean Absolute Error OLM:  0.5780979478503411\n",
      "Mean Absolute Error OLM:  0.4730778863010268\n",
      "Cohen's Kappa OLM:  0.3140905702985687\n",
      "Closeness Evaluation Measure OLM:  0.6528558704308005\n"
     ]
    }
   ],
   "source": [
    "print(\"Accuracy score OLM: \", accuracy_score(y_test_OLM_new, pred_stress_OLM))\n",
    "print(\"F1 score OLM: \", f1_score(y_test_OLM_new, pred_stress_OLM, average = None))\n",
    "print(\"Precision score OLM: \", precision_score(y_test_OLM_new, pred_stress_OLM, average = None))\n",
    "print(\"Recall score OLM: \", recall_score(y_test_OLM_new, pred_stress_OLM, average = None)) \n",
    "print(\"Macro Averaged Mean Absolute Error OLM: \", macro_averaged_mean_absolute_error(y_test_OLM_new, pred_stress_OLM))\n",
    "print(\"Mean Absolute Error OLM: \", mean_absolute_error(y_test_OLM_new, pred_stress_OLM))\n",
    "print(\"Cohen's Kappa OLM: \",cohen_kappa_score(y_test_OLM_new, pred_stress_OLM, weights = 'quadratic'))\n",
    "print(\"Closeness Evaluation Measure OLM: \", CEMord_OLM)"
   ]
  },
  {
   "cell_type": "markdown",
   "id": "0674ddcd-0960-4bef-8cc8-a2933c76be35",
   "metadata": {},
   "source": [
    "### Support Vector Regression\n",
    "\n",
    "A Support Vector Regression is able to handle both linear and non-linear kernels, which is especially useful for ordinal regression.\n",
    "\n",
    "https://analyticsindiamag.com/feature-selection-using-svm-and-model-building/"
   ]
  },
  {
   "cell_type": "code",
   "execution_count": 46,
   "id": "f38ba94c-f6b9-4e6d-872c-a7fb04efa887",
   "metadata": {},
   "outputs": [],
   "source": [
    "data_SVR = copy.deepcopy(data)"
   ]
  },
  {
   "cell_type": "code",
   "execution_count": 47,
   "id": "aac71612-143f-430f-bed2-7b5adb7b4f14",
   "metadata": {},
   "outputs": [],
   "source": [
    "from sklearn.svm import SVR\n",
    "\n",
    "X = data_SVR.drop([\"DAILY_STRESS\"], axis = 1)\n",
    "Y = data_SVR[\"DAILY_STRESS\"]\n",
    "\n",
    "X_train, X_test, y_train, y_test = train_test_split(X,Y, random_state = 0, stratify = Y)\n",
    "\n",
    "modelSVR = SVR(kernel = 'poly', gamma = 'scale').fit(X_train, y_train)"
   ]
  },
  {
   "cell_type": "markdown",
   "id": "3f555318-8a5d-4403-86ed-d8c0d18b7f68",
   "metadata": {},
   "source": [
    "I use both the 'poly' kernel and the 'scale' gamma, because finding hyperparameters for these values are computationally time consuming, whilst the added value is only limited."
   ]
  },
  {
   "cell_type": "markdown",
   "id": "de1fc267-423c-4341-8d5d-7272fb64c9f6",
   "metadata": {},
   "source": [
    "Feature selection technique called permutation importance, which measures feature importance but can correct for the feature importance bias. After finding the most important features, the features are saved into a list along with it's importance into another list. This list is subsequently used as input features for the final SVR model."
   ]
  },
  {
   "cell_type": "code",
   "execution_count": 127,
   "id": "8d08bba1-5f9a-478f-8eeb-5003fa502ad1",
   "metadata": {},
   "outputs": [],
   "source": [
    "from sklearn.inspection import permutation_importance\n",
    "\n",
    "scoring = ['r2', 'neg_mean_absolute_error', 'neg_mean_squared_error']\n",
    "r_multi_SVR = permutation_importance(modelSVR, X_test, y_test, n_repeats=30, random_state=0, scoring=scoring)\n",
    "\n",
    "feature_list_SVR = []\n",
    "feature_importance_SVR = []\n",
    "for metric in r_multi_SVR:\n",
    "    r = r_multi_SVR[metric]\n",
    "    for i in r.importances_mean.argsort()[::-1]:\n",
    "        if X.columns[i] in feature_list_SVR:\n",
    "            continue\n",
    "        else:\n",
    "            feature_list_SVR.append(X.columns[i])\n",
    "            feature_importance_SVR.append((1 - (1-r.importances_mean[i]*(len(Y)-1)/(len(Y)-X.shape[1]-1))))"
   ]
  },
  {
   "cell_type": "code",
   "execution_count": 128,
   "id": "38ae4ab8-96c0-46aa-bbee-60bcb3a360f2",
   "metadata": {},
   "outputs": [],
   "source": [
    "X_SVR = data_SVR[feature_list_SVR]\n",
    "Y_SVR = data_SVR['DAILY_STRESS']"
   ]
  },
  {
   "cell_type": "markdown",
   "id": "2112ba00-5607-45b6-b47f-fd39dca1e33e",
   "metadata": {},
   "source": [
    "#### Hyperparameter Tuning\n",
    "\n",
    "Using the final data, the best hyperparameters will be used. The C value and Epsilon values will be tuned using the GridSearchCV with 3-fold cross validation."
   ]
  },
  {
   "cell_type": "code",
   "execution_count": 55,
   "id": "43e2d413-8047-470e-9136-9083fe689d66",
   "metadata": {},
   "outputs": [
    {
     "name": "stdout",
     "output_type": "stream",
     "text": [
      "{'C': [0.0, 25.0, 50.0, 75.0, 100.0, 125.0, 150.0, 175.0, 200.0, 225.0, 250.0, 275.0, 300.0, 325.0, 350.0, 375.0, 400.0, 425.0, 450.0, 475.0, 500.0, 525.0, 550.0, 575.0, 600.0], 'epsilon': [0.0, 0.16666666666666666, 0.3333333333333333, 0.5, 0.6666666666666666, 0.8333333333333333, 1.0, 1.1666666666666665, 1.3333333333333333, 1.5, 1.6666666666666665, 1.8333333333333333, 2.0, 2.1666666666666665, 2.333333333333333, 2.5, 2.6666666666666665, 2.833333333333333, 3.0, 3.1666666666666665, 3.333333333333333, 3.5, 3.6666666666666665, 3.833333333333333, 4.0]}\n"
     ]
    }
   ],
   "source": [
    "from sklearn.model_selection import RandomizedSearchCV\n",
    "\n",
    "# Value of regularization parameter\n",
    "C = [float(x) for x in np.round(np.linspace(start = 0.0, stop = 600, num = 25))]\n",
    "# Value of epsilon (error)\n",
    "epsilon = [float(x) for x in np.linspace(start = 0.0, stop = 4.0, num = 25)]\n",
    "\n",
    "random_grid_SVR = {'C': C,\n",
    "               'epsilon': epsilon}\n",
    "print(random_grid_SVR)"
   ]
  },
  {
   "cell_type": "code",
   "execution_count": 56,
   "id": "87b38342-f9da-4895-b84c-78e13a053b20",
   "metadata": {},
   "outputs": [
    {
     "name": "stdout",
     "output_type": "stream",
     "text": [
      "Fitting 3 folds for each of 625 candidates, totalling 1875 fits\n"
     ]
    },
    {
     "name": "stderr",
     "output_type": "stream",
     "text": [
      "C:\\Users\\youri\\anaconda3\\lib\\site-packages\\sklearn\\model_selection\\_validation.py:378: FitFailedWarning: \n",
      "75 fits failed out of a total of 1875.\n",
      "The score on these train-test partitions for these parameters will be set to nan.\n",
      "If these failures are not expected, you can try to debug them by setting error_score='raise'.\n",
      "\n",
      "Below are more details about the failures:\n",
      "--------------------------------------------------------------------------------\n",
      "75 fits failed with the following error:\n",
      "Traceback (most recent call last):\n",
      "  File \"C:\\Users\\youri\\anaconda3\\lib\\site-packages\\sklearn\\model_selection\\_validation.py\", line 686, in _fit_and_score\n",
      "    estimator.fit(X_train, y_train, **fit_params)\n",
      "  File \"C:\\Users\\youri\\anaconda3\\lib\\site-packages\\sklearn\\svm\\_base.py\", line 251, in fit\n",
      "    fit(X, y, sample_weight, solver_type, kernel, random_seed=seed)\n",
      "  File \"C:\\Users\\youri\\anaconda3\\lib\\site-packages\\sklearn\\svm\\_base.py\", line 333, in _dense_fit\n",
      "    ) = libsvm.fit(\n",
      "  File \"sklearn\\svm\\_libsvm.pyx\", line 192, in sklearn.svm._libsvm.fit\n",
      "ValueError: C <= 0\n",
      "\n",
      "  warnings.warn(some_fits_failed_message, FitFailedWarning)\n",
      "C:\\Users\\youri\\anaconda3\\lib\\site-packages\\sklearn\\model_selection\\_search.py:953: UserWarning: One or more of the test scores are non-finite: [        nan         nan         nan         nan         nan         nan\n",
      "         nan         nan         nan         nan         nan         nan\n",
      "         nan         nan         nan         nan         nan         nan\n",
      "         nan         nan         nan         nan         nan         nan\n",
      "         nan -0.02399328  0.14508583  0.14268569  0.06990642  0.13611587\n",
      "  0.11077708 -0.02782564 -0.02782564 -0.02782564 -0.02782564 -0.02782564\n",
      " -0.02782564 -0.02782564 -0.02782564 -0.02782564 -0.02782564 -0.02782564\n",
      " -0.02782564 -0.02782564 -0.02782564 -0.02782564 -0.02782564 -0.02782564\n",
      " -0.02782564 -0.02782564 -0.02146158  0.15868413  0.15656642  0.14642397\n",
      "  0.15416856  0.1240573  -0.02782564 -0.02782564 -0.02782564 -0.02782564\n",
      " -0.02782564 -0.02782564 -0.02782564 -0.02782564 -0.02782564 -0.02782564\n",
      " -0.02782564 -0.02782564 -0.02782564 -0.02782564 -0.02782564 -0.02782564\n",
      " -0.02782564 -0.02782564 -0.02782564 -0.01846134  0.16262049  0.15884093\n",
      "  0.15300281  0.15839378  0.1304162  -0.02782564 -0.02782564 -0.02782564\n",
      " -0.02782564 -0.02782564 -0.02782564 -0.02782564 -0.02782564 -0.02782564\n",
      " -0.02782564 -0.02782564 -0.02782564 -0.02782564 -0.02782564 -0.02782564\n",
      " -0.02782564 -0.02782564 -0.02782564 -0.02782564 -0.01555211  0.16441217\n",
      "  0.15948092  0.15477917  0.16021341  0.13400342 -0.02782564 -0.02782564\n",
      " -0.02782564 -0.02782564 -0.02782564 -0.02782564 -0.02782564 -0.02782564\n",
      " -0.02782564 -0.02782564 -0.02782564 -0.02782564 -0.02782564 -0.02782564\n",
      " -0.02782564 -0.02782564 -0.02782564 -0.02782564 -0.02782564 -0.012649\n",
      "  0.16563789  0.16010194  0.15589292  0.16139032  0.1367607  -0.02782564\n",
      " -0.02782564 -0.02782564 -0.02782564 -0.02782564 -0.02782564 -0.02782564\n",
      " -0.02782564 -0.02782564 -0.02782564 -0.02782564 -0.02782564 -0.02782564\n",
      " -0.02782564 -0.02782564 -0.02782564 -0.02782564 -0.02782564 -0.02782564\n",
      " -0.00982405  0.16643365  0.16053663  0.15646343  0.1620925   0.1387198\n",
      " -0.02782564 -0.02782564 -0.02782564 -0.02782564 -0.02782564 -0.02782564\n",
      " -0.02782564 -0.02782564 -0.02782564 -0.02782564 -0.02782564 -0.02782564\n",
      " -0.02782564 -0.02782564 -0.02782564 -0.02782564 -0.02782564 -0.02782564\n",
      " -0.02782564 -0.00690252  0.16723092  0.16068895  0.15678285  0.16294293\n",
      "  0.14008513 -0.02782564 -0.02782564 -0.02782564 -0.02782564 -0.02782564\n",
      " -0.02782564 -0.02782564 -0.02782564 -0.02782564 -0.02782564 -0.02782564\n",
      " -0.02782564 -0.02782564 -0.02782564 -0.02782564 -0.02782564 -0.02782564\n",
      " -0.02782564 -0.02782564 -0.00422306  0.16766953  0.16082466  0.15754442\n",
      "  0.16353387  0.14140442 -0.02782564 -0.02782564 -0.02782564 -0.02782564\n",
      " -0.02782564 -0.02782564 -0.02782564 -0.02782564 -0.02782564 -0.02782564\n",
      " -0.02782564 -0.02782564 -0.02782564 -0.02782564 -0.02782564 -0.02782564\n",
      " -0.02782564 -0.02782564 -0.02782564 -0.0013565   0.16819601  0.16112832\n",
      "  0.15778749  0.16399454  0.14247646 -0.02782564 -0.02782564 -0.02782564\n",
      " -0.02782564 -0.02782564 -0.02782564 -0.02782564 -0.02782564 -0.02782564\n",
      " -0.02782564 -0.02782564 -0.02782564 -0.02782564 -0.02782564 -0.02782564\n",
      " -0.02782564 -0.02782564 -0.02782564 -0.02782564  0.00130751  0.16865441\n",
      "  0.16141765  0.15803394  0.16453922  0.14328353 -0.02782564 -0.02782564\n",
      " -0.02782564 -0.02782564 -0.02782564 -0.02782564 -0.02782564 -0.02782564\n",
      " -0.02782564 -0.02782564 -0.02782564 -0.02782564 -0.02782564 -0.02782564\n",
      " -0.02782564 -0.02782564 -0.02782564 -0.02782564 -0.02782564  0.00420584\n",
      "  0.16899007  0.16163818  0.15815752  0.16503158  0.14405659 -0.02782564\n",
      " -0.02782564 -0.02782564 -0.02782564 -0.02782564 -0.02782564 -0.02782564\n",
      " -0.02782564 -0.02782564 -0.02782564 -0.02782564 -0.02782564 -0.02782564\n",
      " -0.02782564 -0.02782564 -0.02782564 -0.02782564 -0.02782564 -0.02782564\n",
      "  0.006769    0.16920251  0.16195358  0.15844042  0.16554283  0.14458102\n",
      " -0.02782564 -0.02782564 -0.02782564 -0.02782564 -0.02782564 -0.02782564\n",
      " -0.02782564 -0.02782564 -0.02782564 -0.02782564 -0.02782564 -0.02782564\n",
      " -0.02782564 -0.02782564 -0.02782564 -0.02782564 -0.02782564 -0.02782564\n",
      " -0.02782564  0.00938222  0.16947479  0.16224412  0.15880055  0.16575507\n",
      "  0.14542127 -0.02782564 -0.02782564 -0.02782564 -0.02782564 -0.02782564\n",
      " -0.02782564 -0.02782564 -0.02782564 -0.02782564 -0.02782564 -0.02782564\n",
      " -0.02782564 -0.02782564 -0.02782564 -0.02782564 -0.02782564 -0.02782564\n",
      " -0.02782564 -0.02782564  0.01186768  0.16975951  0.16253896  0.15917762\n",
      "  0.16606272  0.14588742 -0.02782564 -0.02782564 -0.02782564 -0.02782564\n",
      " -0.02782564 -0.02782564 -0.02782564 -0.02782564 -0.02782564 -0.02782564\n",
      " -0.02782564 -0.02782564 -0.02782564 -0.02782564 -0.02782564 -0.02782564\n",
      " -0.02782564 -0.02782564 -0.02782564  0.01452288  0.17004823  0.16259158\n",
      "  0.15946469  0.16651759  0.14643257 -0.02782564 -0.02782564 -0.02782564\n",
      " -0.02782564 -0.02782564 -0.02782564 -0.02782564 -0.02782564 -0.02782564\n",
      " -0.02782564 -0.02782564 -0.02782564 -0.02782564 -0.02782564 -0.02782564\n",
      " -0.02782564 -0.02782564 -0.02782564 -0.02782564  0.01709948  0.1702675\n",
      "  0.16284873  0.15967324  0.16662297  0.14700414 -0.02782564 -0.02782564\n",
      " -0.02782564 -0.02782564 -0.02782564 -0.02782564 -0.02782564 -0.02782564\n",
      " -0.02782564 -0.02782564 -0.02782564 -0.02782564 -0.02782564 -0.02782564\n",
      " -0.02782564 -0.02782564 -0.02782564 -0.02782564 -0.02782564  0.019416\n",
      "  0.17046706  0.16293393  0.16000989  0.16698697  0.14739205 -0.02782564\n",
      " -0.02782564 -0.02782564 -0.02782564 -0.02782564 -0.02782564 -0.02782564\n",
      " -0.02782564 -0.02782564 -0.02782564 -0.02782564 -0.02782564 -0.02782564\n",
      " -0.02782564 -0.02782564 -0.02782564 -0.02782564 -0.02782564 -0.02782564\n",
      "  0.02179507  0.17069085  0.16309631  0.16025403  0.16705949  0.14768973\n",
      " -0.02782564 -0.02782564 -0.02782564 -0.02782564 -0.02782564 -0.02782564\n",
      " -0.02782564 -0.02782564 -0.02782564 -0.02782564 -0.02782564 -0.02782564\n",
      " -0.02782564 -0.02782564 -0.02782564 -0.02782564 -0.02782564 -0.02782564\n",
      " -0.02782564  0.02437725  0.17080592  0.16330452  0.16038267  0.16715979\n",
      "  0.14797474 -0.02782564 -0.02782564 -0.02782564 -0.02782564 -0.02782564\n",
      " -0.02782564 -0.02782564 -0.02782564 -0.02782564 -0.02782564 -0.02782564\n",
      " -0.02782564 -0.02782564 -0.02782564 -0.02782564 -0.02782564 -0.02782564\n",
      " -0.02782564 -0.02782564  0.02665461  0.17108087  0.16350709  0.16039339\n",
      "  0.16734023  0.14848441 -0.02782564 -0.02782564 -0.02782564 -0.02782564\n",
      " -0.02782564 -0.02782564 -0.02782564 -0.02782564 -0.02782564 -0.02782564\n",
      " -0.02782564 -0.02782564 -0.02782564 -0.02782564 -0.02782564 -0.02782564\n",
      " -0.02782564 -0.02782564 -0.02782564  0.02899597  0.17120735  0.16363703\n",
      "  0.16051619  0.1676054   0.14876579 -0.02782564 -0.02782564 -0.02782564\n",
      " -0.02782564 -0.02782564 -0.02782564 -0.02782564 -0.02782564 -0.02782564\n",
      " -0.02782564 -0.02782564 -0.02782564 -0.02782564 -0.02782564 -0.02782564\n",
      " -0.02782564 -0.02782564 -0.02782564 -0.02782564  0.03099202  0.17136422\n",
      "  0.16375656  0.16059712  0.16762539  0.14902789 -0.02782564 -0.02782564\n",
      " -0.02782564 -0.02782564 -0.02782564 -0.02782564 -0.02782564 -0.02782564\n",
      " -0.02782564 -0.02782564 -0.02782564 -0.02782564 -0.02782564 -0.02782564\n",
      " -0.02782564 -0.02782564 -0.02782564 -0.02782564 -0.02782564  0.0332033\n",
      "  0.17147756  0.16388075  0.16075474  0.16782889  0.14930079 -0.02782564\n",
      " -0.02782564 -0.02782564 -0.02782564 -0.02782564 -0.02782564 -0.02782564\n",
      " -0.02782564 -0.02782564 -0.02782564 -0.02782564 -0.02782564 -0.02782564\n",
      " -0.02782564 -0.02782564 -0.02782564 -0.02782564 -0.02782564 -0.02782564\n",
      "  0.03530818  0.17163427  0.16377732  0.16094715  0.16797042  0.149475\n",
      " -0.02782564 -0.02782564 -0.02782564 -0.02782564 -0.02782564 -0.02782564\n",
      " -0.02782564 -0.02782564 -0.02782564 -0.02782564 -0.02782564 -0.02782564\n",
      " -0.02782564 -0.02782564 -0.02782564 -0.02782564 -0.02782564 -0.02782564\n",
      " -0.02782564]\n",
      "  warnings.warn(\n"
     ]
    },
    {
     "data": {
      "text/html": [
       "<style>#sk-container-id-1 {color: black;background-color: white;}#sk-container-id-1 pre{padding: 0;}#sk-container-id-1 div.sk-toggleable {background-color: white;}#sk-container-id-1 label.sk-toggleable__label {cursor: pointer;display: block;width: 100%;margin-bottom: 0;padding: 0.3em;box-sizing: border-box;text-align: center;}#sk-container-id-1 label.sk-toggleable__label-arrow:before {content: \"▸\";float: left;margin-right: 0.25em;color: #696969;}#sk-container-id-1 label.sk-toggleable__label-arrow:hover:before {color: black;}#sk-container-id-1 div.sk-estimator:hover label.sk-toggleable__label-arrow:before {color: black;}#sk-container-id-1 div.sk-toggleable__content {max-height: 0;max-width: 0;overflow: hidden;text-align: left;background-color: #f0f8ff;}#sk-container-id-1 div.sk-toggleable__content pre {margin: 0.2em;color: black;border-radius: 0.25em;background-color: #f0f8ff;}#sk-container-id-1 input.sk-toggleable__control:checked~div.sk-toggleable__content {max-height: 200px;max-width: 100%;overflow: auto;}#sk-container-id-1 input.sk-toggleable__control:checked~label.sk-toggleable__label-arrow:before {content: \"▾\";}#sk-container-id-1 div.sk-estimator input.sk-toggleable__control:checked~label.sk-toggleable__label {background-color: #d4ebff;}#sk-container-id-1 div.sk-label input.sk-toggleable__control:checked~label.sk-toggleable__label {background-color: #d4ebff;}#sk-container-id-1 input.sk-hidden--visually {border: 0;clip: rect(1px 1px 1px 1px);clip: rect(1px, 1px, 1px, 1px);height: 1px;margin: -1px;overflow: hidden;padding: 0;position: absolute;width: 1px;}#sk-container-id-1 div.sk-estimator {font-family: monospace;background-color: #f0f8ff;border: 1px dotted black;border-radius: 0.25em;box-sizing: border-box;margin-bottom: 0.5em;}#sk-container-id-1 div.sk-estimator:hover {background-color: #d4ebff;}#sk-container-id-1 div.sk-parallel-item::after {content: \"\";width: 100%;border-bottom: 1px solid gray;flex-grow: 1;}#sk-container-id-1 div.sk-label:hover label.sk-toggleable__label {background-color: #d4ebff;}#sk-container-id-1 div.sk-serial::before {content: \"\";position: absolute;border-left: 1px solid gray;box-sizing: border-box;top: 0;bottom: 0;left: 50%;z-index: 0;}#sk-container-id-1 div.sk-serial {display: flex;flex-direction: column;align-items: center;background-color: white;padding-right: 0.2em;padding-left: 0.2em;position: relative;}#sk-container-id-1 div.sk-item {position: relative;z-index: 1;}#sk-container-id-1 div.sk-parallel {display: flex;align-items: stretch;justify-content: center;background-color: white;position: relative;}#sk-container-id-1 div.sk-item::before, #sk-container-id-1 div.sk-parallel-item::before {content: \"\";position: absolute;border-left: 1px solid gray;box-sizing: border-box;top: 0;bottom: 0;left: 50%;z-index: -1;}#sk-container-id-1 div.sk-parallel-item {display: flex;flex-direction: column;z-index: 1;position: relative;background-color: white;}#sk-container-id-1 div.sk-parallel-item:first-child::after {align-self: flex-end;width: 50%;}#sk-container-id-1 div.sk-parallel-item:last-child::after {align-self: flex-start;width: 50%;}#sk-container-id-1 div.sk-parallel-item:only-child::after {width: 0;}#sk-container-id-1 div.sk-dashed-wrapped {border: 1px dashed gray;margin: 0 0.4em 0.5em 0.4em;box-sizing: border-box;padding-bottom: 0.4em;background-color: white;}#sk-container-id-1 div.sk-label label {font-family: monospace;font-weight: bold;display: inline-block;line-height: 1.2em;}#sk-container-id-1 div.sk-label-container {text-align: center;}#sk-container-id-1 div.sk-container {/* jupyter's `normalize.less` sets `[hidden] { display: none; }` but bootstrap.min.css set `[hidden] { display: none !important; }` so we also need the `!important` here to be able to override the default hidden behavior on the sphinx rendered scikit-learn.org. See: https://github.com/scikit-learn/scikit-learn/issues/21755 */display: inline-block !important;position: relative;}#sk-container-id-1 div.sk-text-repr-fallback {display: none;}</style><div id=\"sk-container-id-1\" class=\"sk-top-container\"><div class=\"sk-text-repr-fallback\"><pre>GridSearchCV(cv=3, estimator=SVR(kernel=&#x27;poly&#x27;), n_jobs=-1,\n",
       "             param_grid={&#x27;C&#x27;: [0.0, 25.0, 50.0, 75.0, 100.0, 125.0, 150.0,\n",
       "                               175.0, 200.0, 225.0, 250.0, 275.0, 300.0, 325.0,\n",
       "                               350.0, 375.0, 400.0, 425.0, 450.0, 475.0, 500.0,\n",
       "                               525.0, 550.0, 575.0, 600.0],\n",
       "                         &#x27;epsilon&#x27;: [0.0, 0.16666666666666666,\n",
       "                                     0.3333333333333333, 0.5,\n",
       "                                     0.6666666666666666, 0.8333333333333333,\n",
       "                                     1.0, 1.1666666666666665,\n",
       "                                     1.3333333333333333, 1.5,\n",
       "                                     1.6666666666666665, 1.8333333333333333,\n",
       "                                     2.0, 2.1666666666666665, 2.333333333333333,\n",
       "                                     2.5, 2.6666666666666665, 2.833333333333333,\n",
       "                                     3.0, 3.1666666666666665, 3.333333333333333,\n",
       "                                     3.5, 3.6666666666666665, 3.833333333333333,\n",
       "                                     4.0]},\n",
       "             verbose=1)</pre><b>In a Jupyter environment, please rerun this cell to show the HTML representation or trust the notebook. <br />On GitHub, the HTML representation is unable to render, please try loading this page with nbviewer.org.</b></div><div class=\"sk-container\" hidden><div class=\"sk-item sk-dashed-wrapped\"><div class=\"sk-label-container\"><div class=\"sk-label sk-toggleable\"><input class=\"sk-toggleable__control sk-hidden--visually\" id=\"sk-estimator-id-1\" type=\"checkbox\" ><label for=\"sk-estimator-id-1\" class=\"sk-toggleable__label sk-toggleable__label-arrow\">GridSearchCV</label><div class=\"sk-toggleable__content\"><pre>GridSearchCV(cv=3, estimator=SVR(kernel=&#x27;poly&#x27;), n_jobs=-1,\n",
       "             param_grid={&#x27;C&#x27;: [0.0, 25.0, 50.0, 75.0, 100.0, 125.0, 150.0,\n",
       "                               175.0, 200.0, 225.0, 250.0, 275.0, 300.0, 325.0,\n",
       "                               350.0, 375.0, 400.0, 425.0, 450.0, 475.0, 500.0,\n",
       "                               525.0, 550.0, 575.0, 600.0],\n",
       "                         &#x27;epsilon&#x27;: [0.0, 0.16666666666666666,\n",
       "                                     0.3333333333333333, 0.5,\n",
       "                                     0.6666666666666666, 0.8333333333333333,\n",
       "                                     1.0, 1.1666666666666665,\n",
       "                                     1.3333333333333333, 1.5,\n",
       "                                     1.6666666666666665, 1.8333333333333333,\n",
       "                                     2.0, 2.1666666666666665, 2.333333333333333,\n",
       "                                     2.5, 2.6666666666666665, 2.833333333333333,\n",
       "                                     3.0, 3.1666666666666665, 3.333333333333333,\n",
       "                                     3.5, 3.6666666666666665, 3.833333333333333,\n",
       "                                     4.0]},\n",
       "             verbose=1)</pre></div></div></div><div class=\"sk-parallel\"><div class=\"sk-parallel-item\"><div class=\"sk-item\"><div class=\"sk-label-container\"><div class=\"sk-label sk-toggleable\"><input class=\"sk-toggleable__control sk-hidden--visually\" id=\"sk-estimator-id-2\" type=\"checkbox\" ><label for=\"sk-estimator-id-2\" class=\"sk-toggleable__label sk-toggleable__label-arrow\">estimator: SVR</label><div class=\"sk-toggleable__content\"><pre>SVR(kernel=&#x27;poly&#x27;)</pre></div></div></div><div class=\"sk-serial\"><div class=\"sk-item\"><div class=\"sk-estimator sk-toggleable\"><input class=\"sk-toggleable__control sk-hidden--visually\" id=\"sk-estimator-id-3\" type=\"checkbox\" ><label for=\"sk-estimator-id-3\" class=\"sk-toggleable__label sk-toggleable__label-arrow\">SVR</label><div class=\"sk-toggleable__content\"><pre>SVR(kernel=&#x27;poly&#x27;)</pre></div></div></div></div></div></div></div></div></div></div>"
      ],
      "text/plain": [
       "GridSearchCV(cv=3, estimator=SVR(kernel='poly'), n_jobs=-1,\n",
       "             param_grid={'C': [0.0, 25.0, 50.0, 75.0, 100.0, 125.0, 150.0,\n",
       "                               175.0, 200.0, 225.0, 250.0, 275.0, 300.0, 325.0,\n",
       "                               350.0, 375.0, 400.0, 425.0, 450.0, 475.0, 500.0,\n",
       "                               525.0, 550.0, 575.0, 600.0],\n",
       "                         'epsilon': [0.0, 0.16666666666666666,\n",
       "                                     0.3333333333333333, 0.5,\n",
       "                                     0.6666666666666666, 0.8333333333333333,\n",
       "                                     1.0, 1.1666666666666665,\n",
       "                                     1.3333333333333333, 1.5,\n",
       "                                     1.6666666666666665, 1.8333333333333333,\n",
       "                                     2.0, 2.1666666666666665, 2.333333333333333,\n",
       "                                     2.5, 2.6666666666666665, 2.833333333333333,\n",
       "                                     3.0, 3.1666666666666665, 3.333333333333333,\n",
       "                                     3.5, 3.6666666666666665, 3.833333333333333,\n",
       "                                     4.0]},\n",
       "             verbose=1)"
      ]
     },
     "execution_count": 56,
     "metadata": {},
     "output_type": "execute_result"
    }
   ],
   "source": [
    "from sklearn.model_selection import GridSearchCV\n",
    "\n",
    "X_train_SVR, X_test_SVR, y_train_SVR, y_test_SVR = train_test_split(X_SVR, Y_SVR, random_state = 0, stratify = Y_SVR)\n",
    "\n",
    "# Use the random grid to search for best hyperparameters\n",
    "# First create the base model to tune\n",
    "svr = SVR(kernel = 'poly', gamma = 'scale')\n",
    "# Random search of parameters, using 3 fold cross validation, \n",
    "# search across 100 different combinations, and use all available cores\n",
    "SVR_random = GridSearchCV(estimator = svr, param_grid = random_grid_SVR, cv = 3, verbose=1, n_jobs = -1)\n",
    "# Fit the random search model\n",
    "SVR_random.fit(X_train_SVR, y_train_SVR)"
   ]
  },
  {
   "cell_type": "code",
   "execution_count": 57,
   "id": "07de0923-5506-4236-9eb0-8b929ee05945",
   "metadata": {},
   "outputs": [
    {
     "data": {
      "text/plain": [
       "{'C': 600.0, 'epsilon': 0.16666666666666666}"
      ]
     },
     "execution_count": 57,
     "metadata": {},
     "output_type": "execute_result"
    }
   ],
   "source": [
    "params_SVR = SVR_random.best_params_\n",
    "params_SVR"
   ]
  },
  {
   "cell_type": "markdown",
   "id": "d472f149-f712-4496-b687-e4ffa49f5253",
   "metadata": {},
   "source": [
    "The grid search finds that for Epsilon 0.16666666666666666 is the ideal value, and for C 600.0 is the ideal value."
   ]
  },
  {
   "cell_type": "code",
   "execution_count": 62,
   "id": "bc22a297-596b-49b7-9b1e-7ac95ad56005",
   "metadata": {
    "tags": []
   },
   "outputs": [],
   "source": [
    "fmodel_SVR = SVR(kernel = 'poly',\n",
    "               gamma = 'scale',\n",
    "               C = 600.0,\n",
    "              epsilon = 0.16666666666666666)\n",
    "fmodel_SVR.fit(X_train_SVR, y_train_SVR)\n",
    "\n",
    "pred_SVR = fmodel_SVR.predict(X_test_SVR)\n",
    "\n",
    "pred_stress_SVR = [int(np.round(x)) for x in pred_SVR]"
   ]
  },
  {
   "cell_type": "code",
   "execution_count": 63,
   "id": "1fc20e40-49c2-4315-8861-e314c6aec2e4",
   "metadata": {},
   "outputs": [
    {
     "data": {
      "text/plain": [
       "(array([1, 2, 3]), array([  40, 3521,  432], dtype=int64))"
      ]
     },
     "execution_count": 63,
     "metadata": {},
     "output_type": "execute_result"
    }
   ],
   "source": [
    "np.unique(pred_stress_SVR, return_counts = True)"
   ]
  },
  {
   "cell_type": "markdown",
   "id": "b710304e-e3ea-4be1-9352-93cafd60e6e2",
   "metadata": {},
   "source": [
    "Confusion matrix for y-test and y-pred of the SVR are made. Also for CEM-ord computation."
   ]
  },
  {
   "cell_type": "code",
   "execution_count": 64,
   "id": "0bf9a628-b3c4-42ff-9d11-6f1c849fffd7",
   "metadata": {},
   "outputs": [
    {
     "data": {
      "text/plain": [
       "array([[  29,  746,   14],\n",
       "       [   9, 1813,  129],\n",
       "       [   2,  962,  289]], dtype=int64)"
      ]
     },
     "execution_count": 64,
     "metadata": {},
     "output_type": "execute_result"
    }
   ],
   "source": [
    "cm_SVR = confusion_matrix(y_test_SVR, pred_stress_SVR)\n",
    "cm_SVR"
   ]
  },
  {
   "cell_type": "code",
   "execution_count": 65,
   "id": "93cca441-6e79-44fb-ae24-b99924fad7e8",
   "metadata": {},
   "outputs": [
    {
     "data": {
      "image/png": "[encoded data removed]",
      "text/plain": [
       "<Figure size 432x288 with 2 Axes>"
      ]
     },
     "metadata": {},
     "output_type": "display_data"
    }
   ],
   "source": [
    "ConfusionMatrixDisplay(cm_SVR).plot()\n",
    "plt.show()"
   ]
  },
  {
   "cell_type": "code",
   "execution_count": 66,
   "id": "48da58c8-7c4d-4fe6-9c81-958a2f0d0aee",
   "metadata": {},
   "outputs": [
    {
     "data": {
      "text/plain": [
       "array([[ 789,    0,    0],\n",
       "       [   0, 1951,    0],\n",
       "       [   0,    0, 1253]], dtype=int64)"
      ]
     },
     "execution_count": 66,
     "metadata": {},
     "output_type": "execute_result"
    }
   ],
   "source": [
    "true_cm_SVR = confusion_matrix(y_test_SVR, y_test_SVR)\n",
    "true_cm_SVR"
   ]
  },
  {
   "cell_type": "code",
   "execution_count": 67,
   "id": "7ddc9744-b8b8-48fe-ad6e-1e5d46c353da",
   "metadata": {},
   "outputs": [],
   "source": [
    "prox11_SVR = np.log((1/((true_cm_SVR[0,0]/2)/(y_test_SVR.size))))\n",
    "prox12_SVR = np.log((1/(((true_cm_SVR[1,1]/2) + true_cm_SVR[0,0])/(y_test_SVR.size))))\n",
    "prox13_SVR = np.log((1/(((true_cm_SVR[2,2]/2) + true_cm_SVR[0,0] + true_cm_SVR[1,1])/(y_test_SVR.size))))\n",
    "\n",
    "prox21_SVR = np.log((1/(((true_cm_SVR[0,0]/2) + true_cm_SVR[1,1])/(y_test_SVR.size))))\n",
    "prox22_SVR = np.log((1/((true_cm_SVR[1,1]/2)/(y_test_SVR.size))))\n",
    "prox23_SVR = np.log((1/(((true_cm_SVR[2,2]/2) + true_cm_SVR[1,1])/(y_test_SVR.size))))\n",
    "\n",
    "prox31_SVR = np.log((1/(((true_cm_SVR[0,0]/2) + true_cm_SVR[1,1] + true_cm_SVR[2,2])/(y_test_SVR.size))))\n",
    "prox32_SVR = np.log((1/(((true_cm_SVR[1,1]/2) + true_cm_SVR[2,2])/(y_test_SVR.size))))\n",
    "prox33_SVR = np.log((1/((true_cm_SVR[2,2]/2)/(y_test_SVR.size))))"
   ]
  },
  {
   "cell_type": "code",
   "execution_count": 68,
   "id": "70ea6fb1-ddc4-40c3-a995-fb04eb94f0a3",
   "metadata": {},
   "outputs": [],
   "source": [
    "proximity_SVR = np.asarray([[prox11_SVR, prox12_SVR, prox13_SVR],\n",
    "                            [prox21_SVR, prox22_SVR, prox23_SVR],\n",
    "                            [prox31_SVR, prox32_SVR, prox33_SVR]])"
   ]
  },
  {
   "cell_type": "code",
   "execution_count": 69,
   "id": "9c26fbf3-aa81-416b-b76a-8f258db3b95d",
   "metadata": {},
   "outputs": [],
   "source": [
    "CEMord_SVR = np.sum((cm_SVR * proximity_SVR)) / ((true_cm_SVR[0,0] * prox11_SVR) + (true_cm_SVR[1,1] * prox22_SVR) + \n",
    "                                              (true_cm_SVR[2,2] * prox33_SVR))"
   ]
  },
  {
   "cell_type": "markdown",
   "id": "dd9481e5-5313-4e47-a14c-b75093cc4d79",
   "metadata": {},
   "source": [
    "Evaluation and error metrics for the Support Vector Regression."
   ]
  },
  {
   "cell_type": "code",
   "execution_count": 70,
   "id": "15c7f7f4-a671-4de7-8978-bd3f38b2b241",
   "metadata": {},
   "outputs": [
    {
     "name": "stdout",
     "output_type": "stream",
     "text": [
      "Accuracy score SVR:  0.5336839469070874\n",
      "F1 score SVR:  [0.06996381 0.6626462  0.34302671]\n",
      "Precision score SVR:  [0.725      0.51491054 0.66898148]\n",
      "Recall score SVR:  [0.03675539 0.92926704 0.23064645]\n",
      "Macro Averaged Mean Absolute Error SVR:  0.6075570904279995\n",
      "Mean Absolute Error SVR:  0.47032306536438767\n",
      "Cohen's Kappa SVR:  0.2116873561830711\n",
      "Closeness Evaluation Measure SVR:  0.6367846065879692\n"
     ]
    }
   ],
   "source": [
    "print(\"Accuracy score SVR: \", accuracy_score(y_test_SVR, pred_stress_SVR))\n",
    "print(\"F1 score SVR: \", f1_score(y_test_SVR, pred_stress_SVR, average = None))\n",
    "print(\"Precision score SVR: \", precision_score(y_test_SVR, pred_stress_SVR, average = None))\n",
    "print(\"Recall score SVR: \", recall_score(y_test_SVR, pred_stress_SVR, average = None)) \n",
    "print(\"Macro Averaged Mean Absolute Error SVR: \", macro_averaged_mean_absolute_error(y_test_SVR, pred_stress_SVR))\n",
    "print(\"Mean Absolute Error SVR: \", mean_absolute_error(y_test_SVR, pred_stress_SVR))\n",
    "print(\"Cohen's Kappa SVR: \",cohen_kappa_score(y_test_SVR, pred_stress_SVR, weights = 'quadratic'))\n",
    "print(\"Closeness Evaluation Measure SVR: \", CEMord_SVR)"
   ]
  },
  {
   "cell_type": "markdown",
   "id": "96c492a5-c3f2-4e0a-9b05-c4ae1ca5a153",
   "metadata": {},
   "source": [
    "### Random Forest Regression"
   ]
  },
  {
   "cell_type": "markdown",
   "id": "07e8f49e-e522-41c4-ac5b-c5570fcc26bb",
   "metadata": {},
   "source": [
    "A Random Forest Regressor is a very adequate technique for non-linear data. Next to that it corrects for overfitting of decision trees because it uses multiple decision trees and has both overfitting as well as underfitting decision trees in its forest."
   ]
  },
  {
   "cell_type": "code",
   "execution_count": 71,
   "id": "f5932522-8d8c-4b25-8062-50ae0ffb8688",
   "metadata": {},
   "outputs": [],
   "source": [
    "data_RF = copy.deepcopy(data)"
   ]
  },
  {
   "cell_type": "code",
   "execution_count": 72,
   "id": "8d0aa619-cc1e-425b-b1f4-479473d0522b",
   "metadata": {},
   "outputs": [],
   "source": [
    "from sklearn.ensemble import RandomForestRegressor\n",
    "\n",
    "X = data_RF.drop([\"DAILY_STRESS\"], axis = 1)\n",
    "Y = data_RF[\"DAILY_STRESS\"]\n",
    "\n",
    "X_train, X_test, y_train, y_test = train_test_split(X, Y, random_state = 0, stratify = Y)\n",
    "\n",
    "modelRF= RandomForestRegressor(n_estimators = 100, random_state = 0).fit(X_train, y_train)"
   ]
  },
  {
   "cell_type": "markdown",
   "id": "9ca73710-829e-4e31-ad74-eb3ff1f8dbdc",
   "metadata": {},
   "source": [
    "Permutation importance for feature selection of most important features."
   ]
  },
  {
   "cell_type": "code",
   "execution_count": 73,
   "id": "487b4265-a42d-4007-abf3-7f066e9c72f6",
   "metadata": {},
   "outputs": [],
   "source": [
    "from sklearn.inspection import permutation_importance\n",
    "\n",
    "scoring = ['r2', 'neg_mean_absolute_error', 'neg_mean_squared_error']\n",
    "r_multi_RF = permutation_importance(modelRF, X_test, y_test, n_repeats=30, random_state=0, scoring=scoring)\n",
    "\n",
    "feature_list_RF = []\n",
    "feature_importance_RF = []\n",
    "for metric in r_multi_RF:\n",
    "    r = r_multi_RF[metric]\n",
    "    for i in r.importances_mean.argsort()[::-1]:\n",
    "        if (1 - (1-r.importances_mean[i]*(len(Y)-1)/(len(Y)-X.shape[1]-1))) > 0.010:\n",
    "            if X.columns[i] in feature_list_RF:\n",
    "                continue\n",
    "            else:\n",
    "                feature_list_RF.append(X.columns[i])\n",
    "                feature_importance_RF.append((1 - (1-r.importances_mean[i]*(len(Y)-1)/(len(Y)-X.shape[1]-1))))"
   ]
  },
  {
   "cell_type": "code",
   "execution_count": 74,
   "id": "8508474f-ef9b-490c-b781-af858b5d3045",
   "metadata": {},
   "outputs": [],
   "source": [
    "X_RF = data_RF[feature_list_RF]\n",
    "Y_RF = data_RF['DAILY_STRESS']"
   ]
  },
  {
   "cell_type": "markdown",
   "id": "0f05c861-e1f8-4cb9-94be-907ccfb5cf97",
   "metadata": {},
   "source": [
    "##### Hyperparameter Tuning\n",
    "https://towardsdatascience.com/hyperparameter-tuning-the-random-forest-in-python-using-scikit-learn-28d2aa77dd74"
   ]
  },
  {
   "cell_type": "markdown",
   "id": "6cfa1c35-7cab-4fdf-9206-9be332b8eda1",
   "metadata": {},
   "source": [
    "Hyperparameter tuning using RandomizedSearchCV with 100 iterations and 3-fold cross validation. Here RandomizedSearchCV is used because the amount of different hyperparameters and it's possible combinations make a GridSearchCV computationally time-consuming."
   ]
  },
  {
   "cell_type": "code",
   "execution_count": 75,
   "id": "1c30e3c3-9dd4-43ff-b87e-e40ff8f824cc",
   "metadata": {},
   "outputs": [
    {
     "name": "stdout",
     "output_type": "stream",
     "text": [
      "{'n_estimators': [200, 400, 600, 800, 1000], 'max_features': ['auto', 'sqrt'], 'max_depth': [10, 20, 30, 40, 50, 60, None], 'min_samples_split': [2, 5, 10], 'min_samples_leaf': [1, 2, 4]}\n"
     ]
    }
   ],
   "source": [
    "from sklearn.model_selection import RandomizedSearchCV\n",
    "\n",
    "# Number of trees in random forest\n",
    "n_estimators = [int(x) for x in np.linspace(start = 200, stop = 1000, num = 5)]\n",
    "# Number of features to consider at every split\n",
    "max_features = ['auto', 'sqrt']\n",
    "# Maximum number of levels in tree\n",
    "max_depth = [int(x) for x in np.linspace(10, 60, num = 6)]\n",
    "max_depth.append(None)\n",
    "# Minimum number of samples required to split a node\n",
    "min_samples_split = [2, 5, 10]\n",
    "# Minimum number of samples required at each leaf node\n",
    "min_samples_leaf = [1, 2, 4]\n",
    "# Create the random grid\n",
    "random_grid_RF = {'n_estimators': n_estimators,\n",
    "               'max_features': max_features,\n",
    "               'max_depth': max_depth,\n",
    "               'min_samples_split': min_samples_split,\n",
    "               'min_samples_leaf': min_samples_leaf}\n",
    "print(random_grid_RF)"
   ]
  },
  {
   "cell_type": "code",
   "execution_count": 76,
   "id": "7b6bbe98-90be-4429-90a1-12e314d9569b",
   "metadata": {},
   "outputs": [
    {
     "name": "stdout",
     "output_type": "stream",
     "text": [
      "Fitting 3 folds for each of 100 candidates, totalling 300 fits\n"
     ]
    },
    {
     "data": {
      "text/html": [
       "<style>#sk-container-id-2 {color: black;background-color: white;}#sk-container-id-2 pre{padding: 0;}#sk-container-id-2 div.sk-toggleable {background-color: white;}#sk-container-id-2 label.sk-toggleable__label {cursor: pointer;display: block;width: 100%;margin-bottom: 0;padding: 0.3em;box-sizing: border-box;text-align: center;}#sk-container-id-2 label.sk-toggleable__label-arrow:before {content: \"▸\";float: left;margin-right: 0.25em;color: #696969;}#sk-container-id-2 label.sk-toggleable__label-arrow:hover:before {color: black;}#sk-container-id-2 div.sk-estimator:hover label.sk-toggleable__label-arrow:before {color: black;}#sk-container-id-2 div.sk-toggleable__content {max-height: 0;max-width: 0;overflow: hidden;text-align: left;background-color: #f0f8ff;}#sk-container-id-2 div.sk-toggleable__content pre {margin: 0.2em;color: black;border-radius: 0.25em;background-color: #f0f8ff;}#sk-container-id-2 input.sk-toggleable__control:checked~div.sk-toggleable__content {max-height: 200px;max-width: 100%;overflow: auto;}#sk-container-id-2 input.sk-toggleable__control:checked~label.sk-toggleable__label-arrow:before {content: \"▾\";}#sk-container-id-2 div.sk-estimator input.sk-toggleable__control:checked~label.sk-toggleable__label {background-color: #d4ebff;}#sk-container-id-2 div.sk-label input.sk-toggleable__control:checked~label.sk-toggleable__label {background-color: #d4ebff;}#sk-container-id-2 input.sk-hidden--visually {border: 0;clip: rect(1px 1px 1px 1px);clip: rect(1px, 1px, 1px, 1px);height: 1px;margin: -1px;overflow: hidden;padding: 0;position: absolute;width: 1px;}#sk-container-id-2 div.sk-estimator {font-family: monospace;background-color: #f0f8ff;border: 1px dotted black;border-radius: 0.25em;box-sizing: border-box;margin-bottom: 0.5em;}#sk-container-id-2 div.sk-estimator:hover {background-color: #d4ebff;}#sk-container-id-2 div.sk-parallel-item::after {content: \"\";width: 100%;border-bottom: 1px solid gray;flex-grow: 1;}#sk-container-id-2 div.sk-label:hover label.sk-toggleable__label {background-color: #d4ebff;}#sk-container-id-2 div.sk-serial::before {content: \"\";position: absolute;border-left: 1px solid gray;box-sizing: border-box;top: 0;bottom: 0;left: 50%;z-index: 0;}#sk-container-id-2 div.sk-serial {display: flex;flex-direction: column;align-items: center;background-color: white;padding-right: 0.2em;padding-left: 0.2em;position: relative;}#sk-container-id-2 div.sk-item {position: relative;z-index: 1;}#sk-container-id-2 div.sk-parallel {display: flex;align-items: stretch;justify-content: center;background-color: white;position: relative;}#sk-container-id-2 div.sk-item::before, #sk-container-id-2 div.sk-parallel-item::before {content: \"\";position: absolute;border-left: 1px solid gray;box-sizing: border-box;top: 0;bottom: 0;left: 50%;z-index: -1;}#sk-container-id-2 div.sk-parallel-item {display: flex;flex-direction: column;z-index: 1;position: relative;background-color: white;}#sk-container-id-2 div.sk-parallel-item:first-child::after {align-self: flex-end;width: 50%;}#sk-container-id-2 div.sk-parallel-item:last-child::after {align-self: flex-start;width: 50%;}#sk-container-id-2 div.sk-parallel-item:only-child::after {width: 0;}#sk-container-id-2 div.sk-dashed-wrapped {border: 1px dashed gray;margin: 0 0.4em 0.5em 0.4em;box-sizing: border-box;padding-bottom: 0.4em;background-color: white;}#sk-container-id-2 div.sk-label label {font-family: monospace;font-weight: bold;display: inline-block;line-height: 1.2em;}#sk-container-id-2 div.sk-label-container {text-align: center;}#sk-container-id-2 div.sk-container {/* jupyter's `normalize.less` sets `[hidden] { display: none; }` but bootstrap.min.css set `[hidden] { display: none !important; }` so we also need the `!important` here to be able to override the default hidden behavior on the sphinx rendered scikit-learn.org. See: https://github.com/scikit-learn/scikit-learn/issues/21755 */display: inline-block !important;position: relative;}#sk-container-id-2 div.sk-text-repr-fallback {display: none;}</style><div id=\"sk-container-id-2\" class=\"sk-top-container\"><div class=\"sk-text-repr-fallback\"><pre>RandomizedSearchCV(cv=3, estimator=RandomForestRegressor(), n_iter=100,\n",
       "                   n_jobs=-1,\n",
       "                   param_distributions={&#x27;max_depth&#x27;: [10, 20, 30, 40, 50, 60,\n",
       "                                                      None],\n",
       "                                        &#x27;max_features&#x27;: [&#x27;auto&#x27;, &#x27;sqrt&#x27;],\n",
       "                                        &#x27;min_samples_leaf&#x27;: [1, 2, 4],\n",
       "                                        &#x27;min_samples_split&#x27;: [2, 5, 10],\n",
       "                                        &#x27;n_estimators&#x27;: [200, 400, 600, 800,\n",
       "                                                         1000]},\n",
       "                   random_state=0, verbose=2)</pre><b>In a Jupyter environment, please rerun this cell to show the HTML representation or trust the notebook. <br />On GitHub, the HTML representation is unable to render, please try loading this page with nbviewer.org.</b></div><div class=\"sk-container\" hidden><div class=\"sk-item sk-dashed-wrapped\"><div class=\"sk-label-container\"><div class=\"sk-label sk-toggleable\"><input class=\"sk-toggleable__control sk-hidden--visually\" id=\"sk-estimator-id-4\" type=\"checkbox\" ><label for=\"sk-estimator-id-4\" class=\"sk-toggleable__label sk-toggleable__label-arrow\">RandomizedSearchCV</label><div class=\"sk-toggleable__content\"><pre>RandomizedSearchCV(cv=3, estimator=RandomForestRegressor(), n_iter=100,\n",
       "                   n_jobs=-1,\n",
       "                   param_distributions={&#x27;max_depth&#x27;: [10, 20, 30, 40, 50, 60,\n",
       "                                                      None],\n",
       "                                        &#x27;max_features&#x27;: [&#x27;auto&#x27;, &#x27;sqrt&#x27;],\n",
       "                                        &#x27;min_samples_leaf&#x27;: [1, 2, 4],\n",
       "                                        &#x27;min_samples_split&#x27;: [2, 5, 10],\n",
       "                                        &#x27;n_estimators&#x27;: [200, 400, 600, 800,\n",
       "                                                         1000]},\n",
       "                   random_state=0, verbose=2)</pre></div></div></div><div class=\"sk-parallel\"><div class=\"sk-parallel-item\"><div class=\"sk-item\"><div class=\"sk-label-container\"><div class=\"sk-label sk-toggleable\"><input class=\"sk-toggleable__control sk-hidden--visually\" id=\"sk-estimator-id-5\" type=\"checkbox\" ><label for=\"sk-estimator-id-5\" class=\"sk-toggleable__label sk-toggleable__label-arrow\">estimator: RandomForestRegressor</label><div class=\"sk-toggleable__content\"><pre>RandomForestRegressor()</pre></div></div></div><div class=\"sk-serial\"><div class=\"sk-item\"><div class=\"sk-estimator sk-toggleable\"><input class=\"sk-toggleable__control sk-hidden--visually\" id=\"sk-estimator-id-6\" type=\"checkbox\" ><label for=\"sk-estimator-id-6\" class=\"sk-toggleable__label sk-toggleable__label-arrow\">RandomForestRegressor</label><div class=\"sk-toggleable__content\"><pre>RandomForestRegressor()</pre></div></div></div></div></div></div></div></div></div></div>"
      ],
      "text/plain": [
       "RandomizedSearchCV(cv=3, estimator=RandomForestRegressor(), n_iter=100,\n",
       "                   n_jobs=-1,\n",
       "                   param_distributions={'max_depth': [10, 20, 30, 40, 50, 60,\n",
       "                                                      None],\n",
       "                                        'max_features': ['auto', 'sqrt'],\n",
       "                                        'min_samples_leaf': [1, 2, 4],\n",
       "                                        'min_samples_split': [2, 5, 10],\n",
       "                                        'n_estimators': [200, 400, 600, 800,\n",
       "                                                         1000]},\n",
       "                   random_state=0, verbose=2)"
      ]
     },
     "execution_count": 76,
     "metadata": {},
     "output_type": "execute_result"
    }
   ],
   "source": [
    "X_train_RF, X_test_RF, y_train_RF, y_test_RF = train_test_split(X_RF, Y_RF, random_state = 0, stratify = Y_RF)\n",
    "\n",
    "# Use the random grid to search for best hyperparameters\n",
    "# First create the base model to tune\n",
    "rf = RandomForestRegressor()\n",
    "# Random search of parameters, using 3 fold cross validation, \n",
    "# search across 100 different combinations, and use all available cores\n",
    "rf_random = RandomizedSearchCV(estimator = rf, param_distributions = random_grid_RF, n_iter = 100, cv = 3, verbose=2, random_state=0, n_jobs = -1)\n",
    "# Fit the random search model\n",
    "rf_random.fit(X_train_RF, y_train_RF)"
   ]
  },
  {
   "cell_type": "code",
   "execution_count": 77,
   "id": "b639ac91-3f65-4cdb-96b0-677d487b7a66",
   "metadata": {},
   "outputs": [
    {
     "data": {
      "text/plain": [
       "{'n_estimators': 1000,\n",
       " 'min_samples_split': 2,\n",
       " 'min_samples_leaf': 1,\n",
       " 'max_features': 'sqrt',\n",
       " 'max_depth': 40}"
      ]
     },
     "execution_count": 77,
     "metadata": {},
     "output_type": "execute_result"
    }
   ],
   "source": [
    "params_RF = rf_random.best_params_\n",
    "params_RF"
   ]
  },
  {
   "cell_type": "code",
   "execution_count": 87,
   "id": "7c55fc15-1bed-4ee9-8c8b-8c4a88c9ea6a",
   "metadata": {},
   "outputs": [],
   "source": [
    "modelRF_random = RandomForestRegressor(n_estimators = 1000, min_samples_split = 2,\n",
    "                               min_samples_leaf = 1, max_features = 'sqrt',\n",
    "                               max_depth = 40, random_state = 0).fit(X_train_RF, y_train_RF)\n",
    "\n",
    "pred_RF = modelRF_random.predict(X_test_RF)\n",
    "\n",
    "pred_stress_RF = [int(np.round(x)) for x in pred_RF]"
   ]
  },
  {
   "cell_type": "markdown",
   "id": "813d2ed7-5e1c-4417-837b-a095315d5faa",
   "metadata": {},
   "source": [
    "Confusion matrix for calculation of CEM-ord."
   ]
  },
  {
   "cell_type": "code",
   "execution_count": 88,
   "id": "9c38efac-0493-43ad-905a-e7f5065a2101",
   "metadata": {},
   "outputs": [
    {
     "data": {
      "text/plain": [
       "array([[ 108,  675,    6],\n",
       "       [  18, 1825,  108],\n",
       "       [   4,  959,  290]], dtype=int64)"
      ]
     },
     "execution_count": 88,
     "metadata": {},
     "output_type": "execute_result"
    }
   ],
   "source": [
    "cm_RF = confusion_matrix(y_test_RF, pred_stress_RF)\n",
    "cm_RF"
   ]
  },
  {
   "cell_type": "code",
   "execution_count": 89,
   "id": "961c0912-fb35-4247-8ec5-c655c1160d7f",
   "metadata": {},
   "outputs": [
    {
     "data": {
      "image/png": "[encoded data removed]",
      "text/plain": [
       "<Figure size 432x288 with 2 Axes>"
      ]
     },
     "metadata": {},
     "output_type": "display_data"
    }
   ],
   "source": [
    "ConfusionMatrixDisplay(cm_RF).plot()\n",
    "plt.show()"
   ]
  },
  {
   "cell_type": "code",
   "execution_count": 90,
   "id": "486e7aa7-adf7-4f0b-a938-fef2d61061df",
   "metadata": {},
   "outputs": [
    {
     "data": {
      "text/plain": [
       "array([[ 789,    0,    0],\n",
       "       [   0, 1951,    0],\n",
       "       [   0,    0, 1253]], dtype=int64)"
      ]
     },
     "execution_count": 90,
     "metadata": {},
     "output_type": "execute_result"
    }
   ],
   "source": [
    "true_cm_RF = confusion_matrix(y_test_RF, y_test_RF)\n",
    "true_cm_RF"
   ]
  },
  {
   "cell_type": "code",
   "execution_count": 91,
   "id": "80f9e80f-3e2c-47b6-b588-38a266ba6d7c",
   "metadata": {},
   "outputs": [],
   "source": [
    "prox11_RF = np.log((1/((true_cm_RF[0,0]/2)/(y_test_RF.size))))\n",
    "prox12_RF = np.log((1/(((true_cm_RF[1,1]/2) + true_cm_RF[0,0])/(y_test_RF.size))))\n",
    "prox13_RF = np.log((1/(((true_cm_RF[2,2]/2) + true_cm_RF[0,0] + true_cm_RF[1,1])/(y_test_RF.size))))\n",
    "\n",
    "prox21_RF = np.log((1/(((true_cm_RF[0,0]/2) + true_cm_RF[1,1])/(y_test_RF.size))))\n",
    "prox22_RF = np.log((1/((true_cm_RF[1,1]/2)/(y_test_RF.size))))\n",
    "prox23_RF = np.log((1/(((true_cm_RF[2,2]/2) + true_cm_RF[1,1])/(y_test_RF.size))))\n",
    "\n",
    "prox31_RF = np.log((1/(((true_cm_RF[0,0]/2) + true_cm_RF[1,1] + true_cm_RF[2,2])/(y_test_RF.size))))\n",
    "prox32_RF = np.log((1/(((true_cm_RF[1,1]/2) + true_cm_RF[2,2])/(y_test_RF.size))))\n",
    "prox33_RF = np.log((1/((true_cm_RF[2,2]/2)/(y_test_RF.size))))"
   ]
  },
  {
   "cell_type": "code",
   "execution_count": 92,
   "id": "a351fe1a-fe12-4e65-8d6a-5d89c24d2a7f",
   "metadata": {},
   "outputs": [],
   "source": [
    "proximity_RF = np.asarray([[prox11_RF, prox12_RF, prox13_RF],\n",
    "                            [prox21_RF, prox22_RF, prox23_RF],\n",
    "                            [prox31_RF, prox32_RF, prox33_RF]])"
   ]
  },
  {
   "cell_type": "code",
   "execution_count": 93,
   "id": "e4f2df2d-11a6-4493-b848-92752f42cb2a",
   "metadata": {},
   "outputs": [],
   "source": [
    "CEMord_RF = np.sum((cm_RF * proximity_RF)) / ((true_cm_RF[0,0] * prox11_RF) + (true_cm_RF[1,1] * prox22_RF) + \n",
    "                                              (true_cm_RF[2,2] * prox33_RF))"
   ]
  },
  {
   "cell_type": "markdown",
   "id": "fc4c9d27-e104-4eb1-ab4e-524f37252d4d",
   "metadata": {},
   "source": [
    "Evaluation and error metrics of the RF model."
   ]
  },
  {
   "cell_type": "code",
   "execution_count": 94,
   "id": "cae76444-d2dc-4938-9f9f-3e3d9d29eaf8",
   "metadata": {},
   "outputs": [
    {
     "name": "stdout",
     "output_type": "stream",
     "text": [
      "Accuracy score RF:  0.5567242674680691\n",
      "F1 score RF:  [0.23503808 0.67467652 0.35003018]\n",
      "Precision score RF:  [0.83076923 0.52760914 0.71782178]\n",
      "Recall score RF:  [0.13688213 0.93541773 0.23144453]\n",
      "Macro Averaged Mean Absolute Error RF:  0.5690175014107679\n",
      "Mean Absolute Error RF:  0.4457801152016028\n",
      "Cohen's Kappa RF:  0.28353092039471695\n",
      "Closeness Evaluation Measure RF:  0.6565520339180142\n"
     ]
    }
   ],
   "source": [
    "print(\"Accuracy score RF: \", accuracy_score(y_test_RF, pred_stress_RF))\n",
    "print(\"F1 score RF: \", f1_score(y_test_RF, pred_stress_RF, average = None))\n",
    "print(\"Precision score RF: \", precision_score(y_test_RF, pred_stress_RF, average = None))\n",
    "print(\"Recall score RF: \", recall_score(y_test_RF, pred_stress_RF, average = None)) \n",
    "print(\"Macro Averaged Mean Absolute Error RF: \", macro_averaged_mean_absolute_error(y_test_RF, pred_stress_RF))\n",
    "print(\"Mean Absolute Error RF: \", mean_absolute_error(y_test_RF, pred_stress_RF))\n",
    "print(\"Cohen's Kappa RF: \",cohen_kappa_score(y_test_RF, pred_stress_RF, weights = 'quadratic'))\n",
    "print(\"Closeness Evaluation Measure RF: \", CEMord_RF)"
   ]
  },
  {
   "cell_type": "markdown",
   "id": "f9075089-3874-4cba-b540-2827cab248f7",
   "metadata": {},
   "source": [
    "### Post Hoc Analysis"
   ]
  },
  {
   "cell_type": "markdown",
   "id": "7343f5b1-8665-43c1-9789-2aa07af4de50",
   "metadata": {},
   "source": [
    "Models indicate a very strong importance of the feature \"DAILY_SHOUTING\". Furthermore, the Linear Regression does not predict that much worse than the Ordinal Regression Models. This gives reason to believe that most of the explained variance in the models is due to the \"DAILY_SHOUTING\" feature. To check, whether this is true, the Linear Regression is performed again, but this time solely the \"DAILY_SHOUTING\" feature is used as predictive feature."
   ]
  },
  {
   "cell_type": "code",
   "execution_count": 95,
   "id": "b5e640ee-0c72-4042-8c40-0298f5a31ba9",
   "metadata": {},
   "outputs": [],
   "source": [
    "import copy\n",
    "from sklearn.model_selection import train_test_split\n",
    "data_PH = copy.deepcopy(data)\n",
    "\n",
    "X_PH = data_PH[\"DAILY_SHOUTING\"]\n",
    "X_PH = np.asarray(X_PH).reshape(-1,1)\n",
    "Y_PH = data_PH[\"DAILY_STRESS\"]\n",
    "\n",
    "X_train_PH, X_test_PH, y_train_PH, y_test_PH = train_test_split(X_PH, Y_PH, random_state = 0, stratify = X_PH)"
   ]
  },
  {
   "cell_type": "code",
   "execution_count": 96,
   "id": "666b8bdc-a0ca-45c4-9b4e-5050fd987dd7",
   "metadata": {},
   "outputs": [],
   "source": [
    "modelPH = LinearRegression().fit(X_train_PH, y_train_PH)"
   ]
  },
  {
   "cell_type": "code",
   "execution_count": 97,
   "id": "b7ff0a8f-5070-44dc-9cb5-c882fb6df4f4",
   "metadata": {},
   "outputs": [
    {
     "name": "stdout",
     "output_type": "stream",
     "text": [
      "Fraction of correct stress predictions\n",
      "0.499373904332582\n"
     ]
    }
   ],
   "source": [
    "pred_PH = modelPH.predict(X_test_PH)\n",
    "\n",
    "pred_stress_PH = [int(np.round(x)) for x in pred_PH]\n",
    "print('Fraction of correct stress predictions')\n",
    "print((np.asarray(y_test_PH.values) == pred_stress_PH).mean())"
   ]
  },
  {
   "cell_type": "markdown",
   "id": "009e1761-8b95-4a97-afd9-a42ecf68fccc",
   "metadata": {},
   "source": [
    "Using the \"DAILY_SHOUTING\" as feature alone is already a very strong predictor of \"DAILY_STRESS\"."
   ]
  },
  {
   "cell_type": "code",
   "execution_count": 98,
   "id": "57290961-d204-4e71-8fb4-7d182478bd97",
   "metadata": {},
   "outputs": [
    {
     "data": {
      "text/plain": [
       "<AxesSubplot:xlabel='DAILY_SHOUTING', ylabel='DAILY_STRESS'>"
      ]
     },
     "execution_count": 98,
     "metadata": {},
     "output_type": "execute_result"
    },
    {
     "data": {
      "image/png": "[encoded data removed]",
      "text/plain": [
       "<Figure size 432x288 with 1 Axes>"
      ]
     },
     "metadata": {},
     "output_type": "display_data"
    }
   ],
   "source": [
    "X_PH = data_PH[\"DAILY_SHOUTING\"]\n",
    "sns.lineplot(x = X_PH, y = Y_PH)"
   ]
  },
  {
   "cell_type": "markdown",
   "id": "0913fcdd-23ae-4ad6-ba12-a850826b6b1d",
   "metadata": {},
   "source": [
    "There is possibly a strong linear relationship between \"DAILY_SHOUTING\" and \"DAILY_STRESS\". This is not surprising considering the predictive value of the baseline model Linear Regression."
   ]
  },
  {
   "cell_type": "code",
   "execution_count": 133,
   "id": "2ab79a5e-7620-4b48-ad55-c31d96c0ee4c",
   "metadata": {
    "tags": []
   },
   "outputs": [
    {
     "data": {
      "text/plain": [
       "<BarContainer object of 22 artists>"
      ]
     },
     "execution_count": 133,
     "metadata": {},
     "output_type": "execute_result"
    },
    {
     "data": {
      "image/png": "[encoded data removed]",
      "text/plain": [
       "<Figure size 1008x1800 with 3 Axes>"
      ]
     },
     "metadata": {},
     "output_type": "display_data"
    }
   ],
   "source": [
    "fig, ax = plt.subplots(3,1, figsize = (14,25))\n",
    "\n",
    "matplotlib.style.use('grayscale')\n",
    "\n",
    "ax[0].set_title(\"Random Forest Feature Importance\")\n",
    "ax[0].set_xlabel(\"R2 value per feature\")\n",
    "ax[0].set_ylabel(\"Features\")\n",
    "ax[0].barh(y = np.flip(feature_list_RF), width = np.flip(feature_importance_RF))\n",
    "\n",
    "ax[1].set_title(\"Support Vector Regression Feature Importance\")\n",
    "ax[1].set_xlabel(\"R2 value per feature\")\n",
    "ax[1].set_ylabel(\"Features\")\n",
    "ax[1].barh(y = np.flip(feature_list_SVR), width = np.flip(np.abs(feature_importance_SVR)))\n",
    "\n",
    "ax[2].set_title(\"Ordered Logit Model Feature Importance\")\n",
    "ax[2].set_xlabel(\"T value per feature\")\n",
    "ax[2].set_ylabel(\"Features\")\n",
    "ax[2].barh(y = names, width = tvalues)"
   ]
  },
  {
   "cell_type": "markdown",
   "id": "9e03c07e-1deb-4773-8b05-a7baf9687a97",
   "metadata": {},
   "source": [
    "Feature importance plot of each model shows that most models have the same variables as important, which means that the feature selection went well."
   ]
  },
  {
   "cell_type": "code",
   "execution_count": 126,
   "id": "0e89e1ba-e190-4d31-a0bb-9fdd8d39d8cc",
   "metadata": {},
   "outputs": [
    {
     "data": {
      "text/plain": [
       "<sklearn.metrics._plot.confusion_matrix.ConfusionMatrixDisplay at 0x25605583460>"
      ]
     },
     "execution_count": 126,
     "metadata": {},
     "output_type": "execute_result"
    },
    {
     "name": "stderr",
     "output_type": "stream",
     "text": [
      "WARNING:matplotlib.font_manager:findfont: Font family ['normal'] not found. Falling back to DejaVu Sans.\n"
     ]
    },
    {
     "data": {
      "image/png": "[encoded data removed]",
      "text/plain": [
       "<Figure size 2160x576 with 6 Axes>"
      ]
     },
     "metadata": {},
     "output_type": "display_data"
    }
   ],
   "source": [
    "fig, ax = plt.subplots(1,3, figsize = (30,8))\n",
    "\n",
    "font = {'family' : 'DejaVu Sans',\n",
    "    'weight' : 'bold',\n",
    "    'size'   : 22}\n",
    "plt.rc('font', **font)\n",
    "\n",
    "ax[0].set_title(\"Confusion Matrix SVR\")\n",
    "ax[1].set_title(\"Confusion Matrix RF\")\n",
    "ax[2].set_title(\"Confusion Matrix OLM\")\n",
    "ConfusionMatrixDisplay(cm_SVR).plot(ax=ax[0])\n",
    "ConfusionMatrixDisplay(cm_RF).plot(ax=ax[1])\n",
    "ConfusionMatrixDisplay(cm_OLM).plot(ax=ax[2])"
   ]
  }
 ],
 "metadata": {
  "kernelspec": {
   "display_name": "Python 3 (ipykernel)",
   "language": "python",
   "name": "python3"
  },
  "language_info": {
   "codemirror_mode": {
    "name": "ipython",
    "version": 3
   },
   "file_extension": ".py",
   "mimetype": "text/x-python",
   "name": "python",
   "nbconvert_exporter": "python",
   "pygments_lexer": "ipython3",
   "version": "3.8.8"
  }
 },
 "nbformat": 4,
 "nbformat_minor": 5
}
